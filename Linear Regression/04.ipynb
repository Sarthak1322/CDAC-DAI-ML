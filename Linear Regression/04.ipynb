{
 "cells": [
  {
   "cell_type": "code",
   "execution_count": 1,
   "id": "2c85fe55",
   "metadata": {},
   "outputs": [],
   "source": [
    "# Polynomial Features"
   ]
  },
  {
   "cell_type": "code",
   "execution_count": 2,
   "id": "96fbf7ff",
   "metadata": {},
   "outputs": [],
   "source": [
    "import pandas as pd\n",
    "import numpy as np\n",
    "from sklearn.linear_model import *\n",
    "from sklearn.model_selection import *\n",
    "from sklearn.metrics import *\n",
    "from sklearn.preprocessing import *\n",
    "import os"
   ]
  },
  {
   "cell_type": "code",
   "execution_count": 4,
   "id": "7a8a85a5",
   "metadata": {},
   "outputs": [
    {
     "data": {
      "text/plain": [
       "'1.6.1'"
      ]
     },
     "execution_count": 4,
     "metadata": {},
     "output_type": "execute_result"
    }
   ],
   "source": [
    "import sklearn\n",
    "sklearn.__version__"
   ]
  },
  {
   "cell_type": "code",
   "execution_count": 5,
   "id": "f5c27fe3",
   "metadata": {},
   "outputs": [
    {
     "data": {
      "text/html": [
       "<div>\n",
       "<style scoped>\n",
       "    .dataframe tbody tr th:only-of-type {\n",
       "        vertical-align: middle;\n",
       "    }\n",
       "\n",
       "    .dataframe tbody tr th {\n",
       "        vertical-align: top;\n",
       "    }\n",
       "\n",
       "    .dataframe thead th {\n",
       "        text-align: right;\n",
       "    }\n",
       "</style>\n",
       "<table border=\"1\" class=\"dataframe\">\n",
       "  <thead>\n",
       "    <tr style=\"text-align: right;\">\n",
       "      <th></th>\n",
       "      <th>price</th>\n",
       "      <th>lotsize</th>\n",
       "      <th>bedrooms</th>\n",
       "      <th>bathrms</th>\n",
       "      <th>stories</th>\n",
       "      <th>driveway</th>\n",
       "      <th>recroom</th>\n",
       "      <th>fullbase</th>\n",
       "      <th>gashw</th>\n",
       "      <th>airco</th>\n",
       "      <th>garagepl</th>\n",
       "      <th>prefarea</th>\n",
       "    </tr>\n",
       "  </thead>\n",
       "  <tbody>\n",
       "    <tr>\n",
       "      <th>0</th>\n",
       "      <td>42000.0</td>\n",
       "      <td>5850</td>\n",
       "      <td>3</td>\n",
       "      <td>1</td>\n",
       "      <td>2</td>\n",
       "      <td>yes</td>\n",
       "      <td>no</td>\n",
       "      <td>yes</td>\n",
       "      <td>no</td>\n",
       "      <td>no</td>\n",
       "      <td>1</td>\n",
       "      <td>no</td>\n",
       "    </tr>\n",
       "    <tr>\n",
       "      <th>1</th>\n",
       "      <td>38500.0</td>\n",
       "      <td>4000</td>\n",
       "      <td>2</td>\n",
       "      <td>1</td>\n",
       "      <td>1</td>\n",
       "      <td>yes</td>\n",
       "      <td>no</td>\n",
       "      <td>no</td>\n",
       "      <td>no</td>\n",
       "      <td>no</td>\n",
       "      <td>0</td>\n",
       "      <td>no</td>\n",
       "    </tr>\n",
       "    <tr>\n",
       "      <th>2</th>\n",
       "      <td>49500.0</td>\n",
       "      <td>3060</td>\n",
       "      <td>3</td>\n",
       "      <td>1</td>\n",
       "      <td>1</td>\n",
       "      <td>yes</td>\n",
       "      <td>no</td>\n",
       "      <td>no</td>\n",
       "      <td>no</td>\n",
       "      <td>no</td>\n",
       "      <td>0</td>\n",
       "      <td>no</td>\n",
       "    </tr>\n",
       "    <tr>\n",
       "      <th>3</th>\n",
       "      <td>60500.0</td>\n",
       "      <td>6650</td>\n",
       "      <td>3</td>\n",
       "      <td>1</td>\n",
       "      <td>2</td>\n",
       "      <td>yes</td>\n",
       "      <td>yes</td>\n",
       "      <td>no</td>\n",
       "      <td>no</td>\n",
       "      <td>no</td>\n",
       "      <td>0</td>\n",
       "      <td>no</td>\n",
       "    </tr>\n",
       "    <tr>\n",
       "      <th>4</th>\n",
       "      <td>61000.0</td>\n",
       "      <td>6360</td>\n",
       "      <td>2</td>\n",
       "      <td>1</td>\n",
       "      <td>1</td>\n",
       "      <td>yes</td>\n",
       "      <td>no</td>\n",
       "      <td>no</td>\n",
       "      <td>no</td>\n",
       "      <td>no</td>\n",
       "      <td>0</td>\n",
       "      <td>no</td>\n",
       "    </tr>\n",
       "  </tbody>\n",
       "</table>\n",
       "</div>"
      ],
      "text/plain": [
       "     price  lotsize  bedrooms  bathrms  ...  gashw airco garagepl prefarea\n",
       "0  42000.0     5850         3        1  ...     no    no        1       no\n",
       "1  38500.0     4000         2        1  ...     no    no        0       no\n",
       "2  49500.0     3060         3        1  ...     no    no        0       no\n",
       "3  60500.0     6650         3        1  ...     no    no        0       no\n",
       "4  61000.0     6360         2        1  ...     no    no        0       no\n",
       "\n",
       "[5 rows x 12 columns]"
      ]
     },
     "execution_count": 5,
     "metadata": {},
     "output_type": "execute_result"
    }
   ],
   "source": [
    "df = pd.read_csv(r\"/home/sarthakredasani/Documents/CDAC_ML/Datasets/Datasets/Housing.csv\")\n",
    "df.head(5)"
   ]
  },
  {
   "cell_type": "code",
   "execution_count": null,
   "id": "fd222e91",
   "metadata": {},
   "outputs": [],
   "source": [
    "# as we are focus on polynomial feature \n",
    "# see carefully what is X and y"
   ]
  },
  {
   "cell_type": "code",
   "execution_count": 7,
   "id": "118303d7",
   "metadata": {},
   "outputs": [],
   "source": [
    "dum_df= pd.get_dummies(df, drop_first=True)\n",
    "X, y = dum_df[['lotsize']], dum_df['price']"
   ]
  },
  {
   "cell_type": "code",
   "execution_count": 8,
   "id": "071c3161",
   "metadata": {},
   "outputs": [
    {
     "data": {
      "text/plain": [
       "Index(['price', 'lotsize', 'bedrooms', 'bathrms', 'stories', 'garagepl',\n",
       "       'driveway_yes', 'recroom_yes', 'fullbase_yes', 'gashw_yes', 'airco_yes',\n",
       "       'prefarea_yes'],\n",
       "      dtype='object')"
      ]
     },
     "execution_count": 8,
     "metadata": {},
     "output_type": "execute_result"
    }
   ],
   "source": [
    "dum_df.columns"
   ]
  },
  {
   "cell_type": "code",
   "execution_count": 9,
   "id": "1364339a",
   "metadata": {},
   "outputs": [
    {
     "data": {
      "text/plain": [
       "(array([6.59876759]), 34136.191564915054)"
      ]
     },
     "execution_count": 9,
     "metadata": {},
     "output_type": "execute_result"
    }
   ],
   "source": [
    "lr = LinearRegression()\n",
    "lr.fit(X,y)\n",
    "lr.coef_ , lr.intercept_"
   ]
  },
  {
   "cell_type": "code",
   "execution_count": 10,
   "id": "4aabb29c",
   "metadata": {},
   "outputs": [],
   "source": [
    "# Polynomial Transformation"
   ]
  },
  {
   "cell_type": "code",
   "execution_count": 11,
   "id": "fd80ea7b",
   "metadata": {},
   "outputs": [],
   "source": [
    "poly = PolynomialFeatures(degree=2, include_bias=False).set_output(transform='pandas')\n",
    "X_poly = poly.fit_transform(X)\n"
   ]
  },
  {
   "cell_type": "code",
   "execution_count": 12,
   "id": "c1b65d2c",
   "metadata": {},
   "outputs": [
    {
     "data": {
      "text/plain": [
       "(array([ 1.48066807e+01, -6.23797591e-04]), 11336.68413381256)"
      ]
     },
     "execution_count": 12,
     "metadata": {},
     "output_type": "execute_result"
    }
   ],
   "source": [
    "lr.fit(X_poly, y)\n",
    "lr.coef_ , lr.intercept_"
   ]
  },
  {
   "cell_type": "code",
   "execution_count": 13,
   "id": "6ce96d53",
   "metadata": {},
   "outputs": [],
   "source": [
    "#  More Variables"
   ]
  },
  {
   "cell_type": "code",
   "execution_count": 14,
   "id": "46dd1c76",
   "metadata": {},
   "outputs": [],
   "source": [
    "X, y = dum_df[['lotsize', 'bedrooms']], dum_df['price']"
   ]
  },
  {
   "cell_type": "code",
   "execution_count": 15,
   "id": "29aa3ee9",
   "metadata": {},
   "outputs": [
    {
     "data": {
      "text/html": [
       "<div>\n",
       "<style scoped>\n",
       "    .dataframe tbody tr th:only-of-type {\n",
       "        vertical-align: middle;\n",
       "    }\n",
       "\n",
       "    .dataframe tbody tr th {\n",
       "        vertical-align: top;\n",
       "    }\n",
       "\n",
       "    .dataframe thead th {\n",
       "        text-align: right;\n",
       "    }\n",
       "</style>\n",
       "<table border=\"1\" class=\"dataframe\">\n",
       "  <thead>\n",
       "    <tr style=\"text-align: right;\">\n",
       "      <th></th>\n",
       "      <th>lotsize</th>\n",
       "      <th>bedrooms</th>\n",
       "      <th>lotsize^2</th>\n",
       "      <th>lotsize bedrooms</th>\n",
       "      <th>bedrooms^2</th>\n",
       "      <th>lotsize^3</th>\n",
       "      <th>lotsize^2 bedrooms</th>\n",
       "      <th>lotsize bedrooms^2</th>\n",
       "      <th>bedrooms^3</th>\n",
       "    </tr>\n",
       "  </thead>\n",
       "  <tbody>\n",
       "    <tr>\n",
       "      <th>0</th>\n",
       "      <td>5850.0</td>\n",
       "      <td>3.0</td>\n",
       "      <td>34222500.0</td>\n",
       "      <td>17550.0</td>\n",
       "      <td>9.0</td>\n",
       "      <td>2.002016e+11</td>\n",
       "      <td>102667500.0</td>\n",
       "      <td>52650.0</td>\n",
       "      <td>27.0</td>\n",
       "    </tr>\n",
       "    <tr>\n",
       "      <th>1</th>\n",
       "      <td>4000.0</td>\n",
       "      <td>2.0</td>\n",
       "      <td>16000000.0</td>\n",
       "      <td>8000.0</td>\n",
       "      <td>4.0</td>\n",
       "      <td>6.400000e+10</td>\n",
       "      <td>32000000.0</td>\n",
       "      <td>16000.0</td>\n",
       "      <td>8.0</td>\n",
       "    </tr>\n",
       "    <tr>\n",
       "      <th>2</th>\n",
       "      <td>3060.0</td>\n",
       "      <td>3.0</td>\n",
       "      <td>9363600.0</td>\n",
       "      <td>9180.0</td>\n",
       "      <td>9.0</td>\n",
       "      <td>2.865262e+10</td>\n",
       "      <td>28090800.0</td>\n",
       "      <td>27540.0</td>\n",
       "      <td>27.0</td>\n",
       "    </tr>\n",
       "    <tr>\n",
       "      <th>3</th>\n",
       "      <td>6650.0</td>\n",
       "      <td>3.0</td>\n",
       "      <td>44222500.0</td>\n",
       "      <td>19950.0</td>\n",
       "      <td>9.0</td>\n",
       "      <td>2.940796e+11</td>\n",
       "      <td>132667500.0</td>\n",
       "      <td>59850.0</td>\n",
       "      <td>27.0</td>\n",
       "    </tr>\n",
       "    <tr>\n",
       "      <th>4</th>\n",
       "      <td>6360.0</td>\n",
       "      <td>2.0</td>\n",
       "      <td>40449600.0</td>\n",
       "      <td>12720.0</td>\n",
       "      <td>4.0</td>\n",
       "      <td>2.572595e+11</td>\n",
       "      <td>80899200.0</td>\n",
       "      <td>25440.0</td>\n",
       "      <td>8.0</td>\n",
       "    </tr>\n",
       "    <tr>\n",
       "      <th>...</th>\n",
       "      <td>...</td>\n",
       "      <td>...</td>\n",
       "      <td>...</td>\n",
       "      <td>...</td>\n",
       "      <td>...</td>\n",
       "      <td>...</td>\n",
       "      <td>...</td>\n",
       "      <td>...</td>\n",
       "      <td>...</td>\n",
       "    </tr>\n",
       "    <tr>\n",
       "      <th>541</th>\n",
       "      <td>4800.0</td>\n",
       "      <td>3.0</td>\n",
       "      <td>23040000.0</td>\n",
       "      <td>14400.0</td>\n",
       "      <td>9.0</td>\n",
       "      <td>1.105920e+11</td>\n",
       "      <td>69120000.0</td>\n",
       "      <td>43200.0</td>\n",
       "      <td>27.0</td>\n",
       "    </tr>\n",
       "    <tr>\n",
       "      <th>542</th>\n",
       "      <td>6000.0</td>\n",
       "      <td>3.0</td>\n",
       "      <td>36000000.0</td>\n",
       "      <td>18000.0</td>\n",
       "      <td>9.0</td>\n",
       "      <td>2.160000e+11</td>\n",
       "      <td>108000000.0</td>\n",
       "      <td>54000.0</td>\n",
       "      <td>27.0</td>\n",
       "    </tr>\n",
       "    <tr>\n",
       "      <th>543</th>\n",
       "      <td>6000.0</td>\n",
       "      <td>3.0</td>\n",
       "      <td>36000000.0</td>\n",
       "      <td>18000.0</td>\n",
       "      <td>9.0</td>\n",
       "      <td>2.160000e+11</td>\n",
       "      <td>108000000.0</td>\n",
       "      <td>54000.0</td>\n",
       "      <td>27.0</td>\n",
       "    </tr>\n",
       "    <tr>\n",
       "      <th>544</th>\n",
       "      <td>6000.0</td>\n",
       "      <td>3.0</td>\n",
       "      <td>36000000.0</td>\n",
       "      <td>18000.0</td>\n",
       "      <td>9.0</td>\n",
       "      <td>2.160000e+11</td>\n",
       "      <td>108000000.0</td>\n",
       "      <td>54000.0</td>\n",
       "      <td>27.0</td>\n",
       "    </tr>\n",
       "    <tr>\n",
       "      <th>545</th>\n",
       "      <td>6000.0</td>\n",
       "      <td>3.0</td>\n",
       "      <td>36000000.0</td>\n",
       "      <td>18000.0</td>\n",
       "      <td>9.0</td>\n",
       "      <td>2.160000e+11</td>\n",
       "      <td>108000000.0</td>\n",
       "      <td>54000.0</td>\n",
       "      <td>27.0</td>\n",
       "    </tr>\n",
       "  </tbody>\n",
       "</table>\n",
       "<p>546 rows × 9 columns</p>\n",
       "</div>"
      ],
      "text/plain": [
       "     lotsize  bedrooms  ...  lotsize bedrooms^2  bedrooms^3\n",
       "0     5850.0       3.0  ...             52650.0        27.0\n",
       "1     4000.0       2.0  ...             16000.0         8.0\n",
       "2     3060.0       3.0  ...             27540.0        27.0\n",
       "3     6650.0       3.0  ...             59850.0        27.0\n",
       "4     6360.0       2.0  ...             25440.0         8.0\n",
       "..       ...       ...  ...                 ...         ...\n",
       "541   4800.0       3.0  ...             43200.0        27.0\n",
       "542   6000.0       3.0  ...             54000.0        27.0\n",
       "543   6000.0       3.0  ...             54000.0        27.0\n",
       "544   6000.0       3.0  ...             54000.0        27.0\n",
       "545   6000.0       3.0  ...             54000.0        27.0\n",
       "\n",
       "[546 rows x 9 columns]"
      ]
     },
     "execution_count": 15,
     "metadata": {},
     "output_type": "execute_result"
    }
   ],
   "source": [
    "poly = PolynomialFeatures(degree=3, include_bias=False).set_output(transform='pandas')\n",
    "X_poly = poly.fit_transform(X)\n",
    "X_poly"
   ]
  },
  {
   "cell_type": "code",
   "execution_count": 17,
   "id": "4b81f4f7",
   "metadata": {},
   "outputs": [
    {
     "data": {
      "text/plain": [
       "Index(['lotsize', 'bedrooms', 'lotsize^2', 'lotsize bedrooms', 'bedrooms^2',\n",
       "       'lotsize^3', 'lotsize^2 bedrooms', 'lotsize bedrooms^2', 'bedrooms^3'],\n",
       "      dtype='object')"
      ]
     },
     "execution_count": 17,
     "metadata": {},
     "output_type": "execute_result"
    }
   ],
   "source": [
    "X_poly.columns"
   ]
  },
  {
   "cell_type": "code",
   "execution_count": 16,
   "id": "934f20cf",
   "metadata": {},
   "outputs": [
    {
     "data": {
      "text/plain": [
       "(array([ 6.06875477e+00,  2.94843461e+02, -8.68104755e-04,  4.29837110e+00,\n",
       "         1.04609172e+03,  2.32561206e-08, -9.87352621e-05, -1.31151307e-01,\n",
       "        -3.50918785e+02]),\n",
       " 8308.237517503541)"
      ]
     },
     "execution_count": 16,
     "metadata": {},
     "output_type": "execute_result"
    }
   ],
   "source": [
    "lr.fit(X_poly, y)\n",
    "lr.coef_ , lr.intercept_"
   ]
  },
  {
   "cell_type": "code",
   "execution_count": 18,
   "id": "c3a2fd1d",
   "metadata": {},
   "outputs": [],
   "source": [
    "#  with All variables"
   ]
  },
  {
   "cell_type": "code",
   "execution_count": 19,
   "id": "dfeb1e4e",
   "metadata": {},
   "outputs": [
    {
     "data": {
      "text/plain": [
       "0.524015742469764"
      ]
     },
     "execution_count": 19,
     "metadata": {},
     "output_type": "execute_result"
    }
   ],
   "source": [
    "X, y = dum_df.drop('price', axis =1), dum_df['price']\n",
    "poly = PolynomialFeatures(degree=2, include_bias=False).set_output(transform='pandas')\n",
    "X_poly = poly.fit_transform(X)\n",
    "\n",
    "X_train, X_test, y_train, y_test = train_test_split(X_poly ,y , test_size=0.3, random_state=25)\n",
    "\n",
    "lr = LinearRegression()\n",
    "lr.fit(X_train, y_train)\n",
    "y_pred = lr.predict(X_test)\n",
    "\n",
    "r2_score(y_test, y_pred)\n"
   ]
  },
  {
   "cell_type": "code",
   "execution_count": 20,
   "id": "386cb44a",
   "metadata": {},
   "outputs": [
    {
     "data": {
      "text/plain": [
       "(382, 77)"
      ]
     },
     "execution_count": 20,
     "metadata": {},
     "output_type": "execute_result"
    }
   ],
   "source": [
    "X_train.shape"
   ]
  },
  {
   "cell_type": "code",
   "execution_count": 21,
   "id": "1aa3fe13",
   "metadata": {},
   "outputs": [
    {
     "data": {
      "text/plain": [
       "-0.5753642031440864"
      ]
     },
     "execution_count": 21,
     "metadata": {},
     "output_type": "execute_result"
    }
   ],
   "source": [
    "poly = PolynomialFeatures(degree=3, include_bias=False).set_output(transform='pandas')\n",
    "X_poly = poly.fit_transform(X)\n",
    "\n",
    "X_train, X_test, y_train, y_test = train_test_split(X_poly ,y , test_size=0.3, random_state=25)\n",
    "\n",
    "lr = LinearRegression()\n",
    "lr.fit(X_train, y_train)\n",
    "y_pred = lr.predict(X_test)\n",
    "\n",
    "r2_score(y_test, y_pred)\n"
   ]
  },
  {
   "cell_type": "code",
   "execution_count": 22,
   "id": "96eea501",
   "metadata": {},
   "outputs": [],
   "source": [
    "X, y = dum_df.drop('price', axis =1), dum_df['price']\n",
    "poly = PolynomialFeatures(degree=2, include_bias=False).set_output(transform='pandas')\n",
    "X_poly = poly.fit_transform(X)\n",
    "\n",
    "X_train, X_test, y_train, y_test = train_test_split(X_poly ,y , test_size=0.3, random_state=25)\n",
    "\n",
    "\n",
    "              "
   ]
  },
  {
   "cell_type": "code",
   "execution_count": 23,
   "id": "3d364e44",
   "metadata": {},
   "outputs": [
    {
     "name": "stderr",
     "output_type": "stream",
     "text": [
      "/home/sarthakredasani/.local/lib/python3.11/site-packages/sklearn/linear_model/_ridge.py:215: LinAlgWarning: Ill-conditioned matrix (rcond=2.79691e-21): result may not be accurate.\n",
      "  return linalg.solve(A, Xy, assume_a=\"pos\", overwrite_a=True).T\n",
      "/home/sarthakredasani/.local/lib/python3.11/site-packages/sklearn/linear_model/_ridge.py:215: LinAlgWarning: Ill-conditioned matrix (rcond=2.79691e-20): result may not be accurate.\n",
      "  return linalg.solve(A, Xy, assume_a=\"pos\", overwrite_a=True).T\n",
      "/home/sarthakredasani/.local/lib/python3.11/site-packages/sklearn/linear_model/_ridge.py:215: LinAlgWarning: Ill-conditioned matrix (rcond=2.79691e-19): result may not be accurate.\n",
      "  return linalg.solve(A, Xy, assume_a=\"pos\", overwrite_a=True).T\n",
      "/home/sarthakredasani/.local/lib/python3.11/site-packages/sklearn/linear_model/_ridge.py:215: LinAlgWarning: Ill-conditioned matrix (rcond=1.39846e-18): result may not be accurate.\n",
      "  return linalg.solve(A, Xy, assume_a=\"pos\", overwrite_a=True).T\n",
      "/home/sarthakredasani/.local/lib/python3.11/site-packages/sklearn/linear_model/_ridge.py:215: LinAlgWarning: Ill-conditioned matrix (rcond=2.79691e-18): result may not be accurate.\n",
      "  return linalg.solve(A, Xy, assume_a=\"pos\", overwrite_a=True).T\n",
      "/home/sarthakredasani/.local/lib/python3.11/site-packages/sklearn/linear_model/_ridge.py:215: LinAlgWarning: Ill-conditioned matrix (rcond=3.59997e-18): result may not be accurate.\n",
      "  return linalg.solve(A, Xy, assume_a=\"pos\", overwrite_a=True).T\n"
     ]
    },
    {
     "data": {
      "text/html": [
       "<div>\n",
       "<style scoped>\n",
       "    .dataframe tbody tr th:only-of-type {\n",
       "        vertical-align: middle;\n",
       "    }\n",
       "\n",
       "    .dataframe tbody tr th {\n",
       "        vertical-align: top;\n",
       "    }\n",
       "\n",
       "    .dataframe thead th {\n",
       "        text-align: right;\n",
       "    }\n",
       "</style>\n",
       "<table border=\"1\" class=\"dataframe\">\n",
       "  <thead>\n",
       "    <tr style=\"text-align: right;\">\n",
       "      <th></th>\n",
       "      <th>alpha</th>\n",
       "      <th>score</th>\n",
       "    </tr>\n",
       "  </thead>\n",
       "  <tbody>\n",
       "    <tr>\n",
       "      <th>5</th>\n",
       "      <td>2.00</td>\n",
       "      <td>0.627815</td>\n",
       "    </tr>\n",
       "    <tr>\n",
       "      <th>4</th>\n",
       "      <td>1.00</td>\n",
       "      <td>0.616622</td>\n",
       "    </tr>\n",
       "    <tr>\n",
       "      <th>3</th>\n",
       "      <td>0.50</td>\n",
       "      <td>0.604012</td>\n",
       "    </tr>\n",
       "    <tr>\n",
       "      <th>2</th>\n",
       "      <td>0.10</td>\n",
       "      <td>0.570190</td>\n",
       "    </tr>\n",
       "    <tr>\n",
       "      <th>1</th>\n",
       "      <td>0.01</td>\n",
       "      <td>0.532664</td>\n",
       "    </tr>\n",
       "  </tbody>\n",
       "</table>\n",
       "</div>"
      ],
      "text/plain": [
       "   alpha     score\n",
       "5   2.00  0.627815\n",
       "4   1.00  0.616622\n",
       "3   0.50  0.604012\n",
       "2   0.10  0.570190\n",
       "1   0.01  0.532664"
      ]
     },
     "execution_count": 23,
     "metadata": {},
     "output_type": "execute_result"
    }
   ],
   "source": [
    "alphas = [0.001, 0.01, 0.1, 0.5, 1,2]\n",
    "scores = []\n",
    "for i in alphas:\n",
    "    ridge = Ridge(alpha=i)\n",
    "    ridge.fit(X_train, y_train)\n",
    "    y_pred = ridge.predict(X_test)\n",
    "    scores.append([i, r2_score(y_test, y_pred)])\n",
    "\n",
    "df_scores = pd.DataFrame(scores, columns=['alpha', 'score'])\n",
    "df_scores.sort_values('score', ascending=False).head()"
   ]
  },
  {
   "cell_type": "code",
   "execution_count": 24,
   "id": "751c1f92",
   "metadata": {},
   "outputs": [
    {
     "name": "stderr",
     "output_type": "stream",
     "text": [
      "/home/sarthakredasani/.local/lib/python3.11/site-packages/sklearn/linear_model/_coordinate_descent.py:695: ConvergenceWarning: Objective did not converge. You might want to increase the number of iterations, check the scale of the features or consider increasing regularisation. Duality gap: 2.866e+10, tolerance: 2.625e+07\n",
      "  model = cd_fast.enet_coordinate_descent(\n",
      "/home/sarthakredasani/.local/lib/python3.11/site-packages/sklearn/linear_model/_coordinate_descent.py:695: ConvergenceWarning: Objective did not converge. You might want to increase the number of iterations, check the scale of the features or consider increasing regularisation. Duality gap: 2.866e+10, tolerance: 2.625e+07\n",
      "  model = cd_fast.enet_coordinate_descent(\n",
      "/home/sarthakredasani/.local/lib/python3.11/site-packages/sklearn/linear_model/_coordinate_descent.py:695: ConvergenceWarning: Objective did not converge. You might want to increase the number of iterations, check the scale of the features or consider increasing regularisation. Duality gap: 2.868e+10, tolerance: 2.625e+07\n",
      "  model = cd_fast.enet_coordinate_descent(\n",
      "/home/sarthakredasani/.local/lib/python3.11/site-packages/sklearn/linear_model/_coordinate_descent.py:695: ConvergenceWarning: Objective did not converge. You might want to increase the number of iterations, check the scale of the features or consider increasing regularisation. Duality gap: 2.876e+10, tolerance: 2.625e+07\n",
      "  model = cd_fast.enet_coordinate_descent(\n",
      "/home/sarthakredasani/.local/lib/python3.11/site-packages/sklearn/linear_model/_coordinate_descent.py:695: ConvergenceWarning: Objective did not converge. You might want to increase the number of iterations, check the scale of the features or consider increasing regularisation. Duality gap: 2.886e+10, tolerance: 2.625e+07\n",
      "  model = cd_fast.enet_coordinate_descent(\n",
      "/home/sarthakredasani/.local/lib/python3.11/site-packages/sklearn/linear_model/_coordinate_descent.py:695: ConvergenceWarning: Objective did not converge. You might want to increase the number of iterations, check the scale of the features or consider increasing regularisation. Duality gap: 2.904e+10, tolerance: 2.625e+07\n",
      "  model = cd_fast.enet_coordinate_descent(\n"
     ]
    },
    {
     "data": {
      "text/html": [
       "<div>\n",
       "<style scoped>\n",
       "    .dataframe tbody tr th:only-of-type {\n",
       "        vertical-align: middle;\n",
       "    }\n",
       "\n",
       "    .dataframe tbody tr th {\n",
       "        vertical-align: top;\n",
       "    }\n",
       "\n",
       "    .dataframe thead th {\n",
       "        text-align: right;\n",
       "    }\n",
       "</style>\n",
       "<table border=\"1\" class=\"dataframe\">\n",
       "  <thead>\n",
       "    <tr style=\"text-align: right;\">\n",
       "      <th></th>\n",
       "      <th>alpha</th>\n",
       "      <th>score</th>\n",
       "    </tr>\n",
       "  </thead>\n",
       "  <tbody>\n",
       "    <tr>\n",
       "      <th>5</th>\n",
       "      <td>2.00</td>\n",
       "      <td>0.546992</td>\n",
       "    </tr>\n",
       "    <tr>\n",
       "      <th>4</th>\n",
       "      <td>1.00</td>\n",
       "      <td>0.536693</td>\n",
       "    </tr>\n",
       "    <tr>\n",
       "      <th>3</th>\n",
       "      <td>0.50</td>\n",
       "      <td>0.530603</td>\n",
       "    </tr>\n",
       "    <tr>\n",
       "      <th>2</th>\n",
       "      <td>0.10</td>\n",
       "      <td>0.525369</td>\n",
       "    </tr>\n",
       "    <tr>\n",
       "      <th>1</th>\n",
       "      <td>0.01</td>\n",
       "      <td>0.524156</td>\n",
       "    </tr>\n",
       "  </tbody>\n",
       "</table>\n",
       "</div>"
      ],
      "text/plain": [
       "   alpha     score\n",
       "5   2.00  0.546992\n",
       "4   1.00  0.536693\n",
       "3   0.50  0.530603\n",
       "2   0.10  0.525369\n",
       "1   0.01  0.524156"
      ]
     },
     "execution_count": 24,
     "metadata": {},
     "output_type": "execute_result"
    }
   ],
   "source": [
    "alphas = [0.001, 0.01, 0.1, 0.5, 1,2]\n",
    "scores = []\n",
    "for i in alphas:\n",
    "    lasso = Lasso(alpha=i)\n",
    "    lasso.fit(X_train, y_train)\n",
    "    y_pred = lasso.predict(X_test)\n",
    "    scores.append([i, r2_score(y_test, y_pred)])\n",
    "\n",
    "df_scores = pd.DataFrame(scores, columns=['alpha', 'score'])\n",
    "df_scores.sort_values('score', ascending=False).head()"
   ]
  },
  {
   "cell_type": "code",
   "execution_count": 25,
   "id": "07246ed7",
   "metadata": {},
   "outputs": [
    {
     "name": "stderr",
     "output_type": "stream",
     "text": [
      "/home/sarthakredasani/.local/lib/python3.11/site-packages/sklearn/linear_model/_coordinate_descent.py:695: ConvergenceWarning: Objective did not converge. You might want to increase the number of iterations, check the scale of the features or consider increasing regularisation. Duality gap: 2.977e+10, tolerance: 2.625e+07\n",
      "  model = cd_fast.enet_coordinate_descent(\n",
      "/home/sarthakredasani/.local/lib/python3.11/site-packages/sklearn/linear_model/_coordinate_descent.py:695: ConvergenceWarning: Objective did not converge. You might want to increase the number of iterations, check the scale of the features or consider increasing regularisation. Duality gap: 2.957e+10, tolerance: 2.625e+07\n",
      "  model = cd_fast.enet_coordinate_descent(\n",
      "/home/sarthakredasani/.local/lib/python3.11/site-packages/sklearn/linear_model/_coordinate_descent.py:695: ConvergenceWarning: Objective did not converge. You might want to increase the number of iterations, check the scale of the features or consider increasing regularisation. Duality gap: 2.933e+10, tolerance: 2.625e+07\n",
      "  model = cd_fast.enet_coordinate_descent(\n",
      "/home/sarthakredasani/.local/lib/python3.11/site-packages/sklearn/linear_model/_coordinate_descent.py:695: ConvergenceWarning: Objective did not converge. You might want to increase the number of iterations, check the scale of the features or consider increasing regularisation. Duality gap: 2.905e+10, tolerance: 2.625e+07\n",
      "  model = cd_fast.enet_coordinate_descent(\n",
      "/home/sarthakredasani/.local/lib/python3.11/site-packages/sklearn/linear_model/_coordinate_descent.py:695: ConvergenceWarning: Objective did not converge. You might want to increase the number of iterations, check the scale of the features or consider increasing regularisation. Duality gap: 2.884e+10, tolerance: 2.625e+07\n",
      "  model = cd_fast.enet_coordinate_descent(\n",
      "/home/sarthakredasani/.local/lib/python3.11/site-packages/sklearn/linear_model/_coordinate_descent.py:695: ConvergenceWarning: Objective did not converge. You might want to increase the number of iterations, check the scale of the features or consider increasing regularisation. Duality gap: 3.266e+10, tolerance: 2.625e+07\n",
      "  model = cd_fast.enet_coordinate_descent(\n",
      "/home/sarthakredasani/.local/lib/python3.11/site-packages/sklearn/linear_model/_coordinate_descent.py:695: ConvergenceWarning: Objective did not converge. You might want to increase the number of iterations, check the scale of the features or consider increasing regularisation. Duality gap: 3.221e+10, tolerance: 2.625e+07\n",
      "  model = cd_fast.enet_coordinate_descent(\n",
      "/home/sarthakredasani/.local/lib/python3.11/site-packages/sklearn/linear_model/_coordinate_descent.py:695: ConvergenceWarning: Objective did not converge. You might want to increase the number of iterations, check the scale of the features or consider increasing regularisation. Duality gap: 3.159e+10, tolerance: 2.625e+07\n",
      "  model = cd_fast.enet_coordinate_descent(\n",
      "/home/sarthakredasani/.local/lib/python3.11/site-packages/sklearn/linear_model/_coordinate_descent.py:695: ConvergenceWarning: Objective did not converge. You might want to increase the number of iterations, check the scale of the features or consider increasing regularisation. Duality gap: 3.067e+10, tolerance: 2.625e+07\n",
      "  model = cd_fast.enet_coordinate_descent(\n",
      "/home/sarthakredasani/.local/lib/python3.11/site-packages/sklearn/linear_model/_coordinate_descent.py:695: ConvergenceWarning: Objective did not converge. You might want to increase the number of iterations, check the scale of the features or consider increasing regularisation. Duality gap: 2.978e+10, tolerance: 2.625e+07\n",
      "  model = cd_fast.enet_coordinate_descent(\n",
      "/home/sarthakredasani/.local/lib/python3.11/site-packages/sklearn/linear_model/_coordinate_descent.py:695: ConvergenceWarning: Objective did not converge. You might want to increase the number of iterations, check the scale of the features or consider increasing regularisation. Duality gap: 3.654e+10, tolerance: 2.625e+07\n",
      "  model = cd_fast.enet_coordinate_descent(\n",
      "/home/sarthakredasani/.local/lib/python3.11/site-packages/sklearn/linear_model/_coordinate_descent.py:695: ConvergenceWarning: Objective did not converge. You might want to increase the number of iterations, check the scale of the features or consider increasing regularisation. Duality gap: 3.611e+10, tolerance: 2.625e+07\n",
      "  model = cd_fast.enet_coordinate_descent(\n",
      "/home/sarthakredasani/.local/lib/python3.11/site-packages/sklearn/linear_model/_coordinate_descent.py:695: ConvergenceWarning: Objective did not converge. You might want to increase the number of iterations, check the scale of the features or consider increasing regularisation. Duality gap: 3.546e+10, tolerance: 2.625e+07\n",
      "  model = cd_fast.enet_coordinate_descent(\n",
      "/home/sarthakredasani/.local/lib/python3.11/site-packages/sklearn/linear_model/_coordinate_descent.py:695: ConvergenceWarning: Objective did not converge. You might want to increase the number of iterations, check the scale of the features or consider increasing regularisation. Duality gap: 3.427e+10, tolerance: 2.625e+07\n",
      "  model = cd_fast.enet_coordinate_descent(\n",
      "/home/sarthakredasani/.local/lib/python3.11/site-packages/sklearn/linear_model/_coordinate_descent.py:695: ConvergenceWarning: Objective did not converge. You might want to increase the number of iterations, check the scale of the features or consider increasing regularisation. Duality gap: 3.268e+10, tolerance: 2.625e+07\n",
      "  model = cd_fast.enet_coordinate_descent(\n",
      "/home/sarthakredasani/.local/lib/python3.11/site-packages/sklearn/linear_model/_coordinate_descent.py:695: ConvergenceWarning: Objective did not converge. You might want to increase the number of iterations, check the scale of the features or consider increasing regularisation. Duality gap: 3.047e+10, tolerance: 2.625e+07\n",
      "  model = cd_fast.enet_coordinate_descent(\n",
      "/home/sarthakredasani/.local/lib/python3.11/site-packages/sklearn/linear_model/_coordinate_descent.py:695: ConvergenceWarning: Objective did not converge. You might want to increase the number of iterations, check the scale of the features or consider increasing regularisation. Duality gap: 3.543e+10, tolerance: 2.625e+07\n",
      "  model = cd_fast.enet_coordinate_descent(\n",
      "/home/sarthakredasani/.local/lib/python3.11/site-packages/sklearn/linear_model/_coordinate_descent.py:695: ConvergenceWarning: Objective did not converge. You might want to increase the number of iterations, check the scale of the features or consider increasing regularisation. Duality gap: 3.566e+10, tolerance: 2.625e+07\n",
      "  model = cd_fast.enet_coordinate_descent(\n"
     ]
    },
    {
     "data": {
      "text/html": [
       "<div>\n",
       "<style scoped>\n",
       "    .dataframe tbody tr th:only-of-type {\n",
       "        vertical-align: middle;\n",
       "    }\n",
       "\n",
       "    .dataframe tbody tr th {\n",
       "        vertical-align: top;\n",
       "    }\n",
       "\n",
       "    .dataframe thead th {\n",
       "        text-align: right;\n",
       "    }\n",
       "</style>\n",
       "<table border=\"1\" class=\"dataframe\">\n",
       "  <thead>\n",
       "    <tr style=\"text-align: right;\">\n",
       "      <th></th>\n",
       "      <th>alpha</th>\n",
       "      <th>ratio</th>\n",
       "      <th>score</th>\n",
       "    </tr>\n",
       "  </thead>\n",
       "  <tbody>\n",
       "    <tr>\n",
       "      <th>16</th>\n",
       "      <td>0.5</td>\n",
       "      <td>0.25</td>\n",
       "      <td>0.651853</td>\n",
       "    </tr>\n",
       "    <tr>\n",
       "      <th>23</th>\n",
       "      <td>1.0</td>\n",
       "      <td>0.75</td>\n",
       "      <td>0.651759</td>\n",
       "    </tr>\n",
       "    <tr>\n",
       "      <th>17</th>\n",
       "      <td>0.5</td>\n",
       "      <td>0.50</td>\n",
       "      <td>0.651749</td>\n",
       "    </tr>\n",
       "    <tr>\n",
       "      <th>15</th>\n",
       "      <td>0.5</td>\n",
       "      <td>0.01</td>\n",
       "      <td>0.651660</td>\n",
       "    </tr>\n",
       "    <tr>\n",
       "      <th>28</th>\n",
       "      <td>2.0</td>\n",
       "      <td>0.75</td>\n",
       "      <td>0.651653</td>\n",
       "    </tr>\n",
       "  </tbody>\n",
       "</table>\n",
       "</div>"
      ],
      "text/plain": [
       "    alpha  ratio     score\n",
       "16    0.5   0.25  0.651853\n",
       "23    1.0   0.75  0.651759\n",
       "17    0.5   0.50  0.651749\n",
       "15    0.5   0.01  0.651660\n",
       "28    2.0   0.75  0.651653"
      ]
     },
     "execution_count": 25,
     "metadata": {},
     "output_type": "execute_result"
    }
   ],
   "source": [
    "alphas = [0.001, 0.01, 0.1, 0.5, 1,2]\n",
    "ratios = [0.01, 0.25, 0.5, 0.75, 0.9]\n",
    "scores = []\n",
    "for i in alphas:\n",
    "    for j in ratios:\n",
    "        el = ElasticNet(alpha=i, l1_ratio=j)\n",
    "        el.fit(X_train, y_train)\n",
    "        y_pred = el.predict(X_test)\n",
    "        scores.append([i, j ,  r2_score(y_test, y_pred)])\n",
    "\n",
    "    \n",
    "\n",
    "df_scores = pd.DataFrame(scores, columns=['alpha','ratio' , 'score'])\n",
    "df_scores.sort_values('score', ascending=False).head()"
   ]
  },
  {
   "cell_type": "code",
   "execution_count": null,
   "id": "b6b972ef",
   "metadata": {},
   "outputs": [],
   "source": []
  }
 ],
 "metadata": {
  "kernelspec": {
   "display_name": "Python 3",
   "language": "python",
   "name": "python3"
  },
  "language_info": {
   "codemirror_mode": {
    "name": "ipython",
    "version": 3
   },
   "file_extension": ".py",
   "mimetype": "text/x-python",
   "name": "python",
   "nbconvert_exporter": "python",
   "pygments_lexer": "ipython3",
   "version": "3.11.9"
  }
 },
 "nbformat": 4,
 "nbformat_minor": 5
}

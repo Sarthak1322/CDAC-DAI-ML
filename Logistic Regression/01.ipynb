{
 "cells": [
  {
   "cell_type": "code",
   "execution_count": 3,
   "id": "c677bcda",
   "metadata": {},
   "outputs": [],
   "source": [
    "from ucimlrepo import fetch_ucirepo\n",
    "import pandas as pd\n",
    "import numpy as np\n",
    "from sklearn.linear_model import *\n",
    "from sklearn.metrics import *\n",
    "from sklearn.model_selection import *\n",
    "import matplotlib.pyplot as plt\n"
   ]
  },
  {
   "cell_type": "code",
   "execution_count": null,
   "id": "bd39673e",
   "metadata": {},
   "outputs": [],
   "source": [
    "# taking the data from ucimlrepo"
   ]
  },
  {
   "cell_type": "code",
   "execution_count": 5,
   "id": "848e245c",
   "metadata": {},
   "outputs": [],
   "source": [
    "breast_cancer_wisconsin_original = fetch_ucirepo(id=15)\n",
    "X = breast_cancer_wisconsin_original.data.features\n",
    "y = breast_cancer_wisconsin_original.data.targets"
   ]
  },
  {
   "cell_type": "code",
   "execution_count": 6,
   "id": "c2aa73ab",
   "metadata": {},
   "outputs": [
    {
     "data": {
      "text/plain": [
       "(699, 9)"
      ]
     },
     "execution_count": 6,
     "metadata": {},
     "output_type": "execute_result"
    }
   ],
   "source": [
    "X.shape"
   ]
  },
  {
   "cell_type": "code",
   "execution_count": 7,
   "id": "8fa06e93",
   "metadata": {},
   "outputs": [
    {
     "data": {
      "text/html": [
       "<div>\n",
       "<style scoped>\n",
       "    .dataframe tbody tr th:only-of-type {\n",
       "        vertical-align: middle;\n",
       "    }\n",
       "\n",
       "    .dataframe tbody tr th {\n",
       "        vertical-align: top;\n",
       "    }\n",
       "\n",
       "    .dataframe thead th {\n",
       "        text-align: right;\n",
       "    }\n",
       "</style>\n",
       "<table border=\"1\" class=\"dataframe\">\n",
       "  <thead>\n",
       "    <tr style=\"text-align: right;\">\n",
       "      <th></th>\n",
       "      <th>Sample_code_number</th>\n",
       "      <th>Clump_thickness</th>\n",
       "      <th>Uniformity_of_cell_size</th>\n",
       "      <th>Uniformity_of_cell_shape</th>\n",
       "      <th>Marginal_adhesion</th>\n",
       "      <th>Single_epithelial_cell_size</th>\n",
       "      <th>Bare_nuclei</th>\n",
       "      <th>Bland_chromatin</th>\n",
       "      <th>Normal_nucleoli</th>\n",
       "      <th>Mitoses</th>\n",
       "      <th>Class</th>\n",
       "    </tr>\n",
       "  </thead>\n",
       "  <tbody>\n",
       "    <tr>\n",
       "      <th>0</th>\n",
       "      <td>1000025</td>\n",
       "      <td>5</td>\n",
       "      <td>1</td>\n",
       "      <td>1</td>\n",
       "      <td>1</td>\n",
       "      <td>2</td>\n",
       "      <td>1.0</td>\n",
       "      <td>3</td>\n",
       "      <td>1</td>\n",
       "      <td>1</td>\n",
       "      <td>2</td>\n",
       "    </tr>\n",
       "    <tr>\n",
       "      <th>1</th>\n",
       "      <td>1002945</td>\n",
       "      <td>5</td>\n",
       "      <td>4</td>\n",
       "      <td>4</td>\n",
       "      <td>5</td>\n",
       "      <td>7</td>\n",
       "      <td>10.0</td>\n",
       "      <td>3</td>\n",
       "      <td>2</td>\n",
       "      <td>1</td>\n",
       "      <td>2</td>\n",
       "    </tr>\n",
       "    <tr>\n",
       "      <th>2</th>\n",
       "      <td>1015425</td>\n",
       "      <td>3</td>\n",
       "      <td>1</td>\n",
       "      <td>1</td>\n",
       "      <td>1</td>\n",
       "      <td>2</td>\n",
       "      <td>2.0</td>\n",
       "      <td>3</td>\n",
       "      <td>1</td>\n",
       "      <td>1</td>\n",
       "      <td>2</td>\n",
       "    </tr>\n",
       "    <tr>\n",
       "      <th>3</th>\n",
       "      <td>1016277</td>\n",
       "      <td>6</td>\n",
       "      <td>8</td>\n",
       "      <td>8</td>\n",
       "      <td>1</td>\n",
       "      <td>3</td>\n",
       "      <td>4.0</td>\n",
       "      <td>3</td>\n",
       "      <td>7</td>\n",
       "      <td>1</td>\n",
       "      <td>2</td>\n",
       "    </tr>\n",
       "    <tr>\n",
       "      <th>4</th>\n",
       "      <td>1017023</td>\n",
       "      <td>4</td>\n",
       "      <td>1</td>\n",
       "      <td>1</td>\n",
       "      <td>3</td>\n",
       "      <td>2</td>\n",
       "      <td>1.0</td>\n",
       "      <td>3</td>\n",
       "      <td>1</td>\n",
       "      <td>1</td>\n",
       "      <td>2</td>\n",
       "    </tr>\n",
       "    <tr>\n",
       "      <th>...</th>\n",
       "      <td>...</td>\n",
       "      <td>...</td>\n",
       "      <td>...</td>\n",
       "      <td>...</td>\n",
       "      <td>...</td>\n",
       "      <td>...</td>\n",
       "      <td>...</td>\n",
       "      <td>...</td>\n",
       "      <td>...</td>\n",
       "      <td>...</td>\n",
       "      <td>...</td>\n",
       "    </tr>\n",
       "    <tr>\n",
       "      <th>694</th>\n",
       "      <td>776715</td>\n",
       "      <td>3</td>\n",
       "      <td>1</td>\n",
       "      <td>1</td>\n",
       "      <td>1</td>\n",
       "      <td>3</td>\n",
       "      <td>2.0</td>\n",
       "      <td>1</td>\n",
       "      <td>1</td>\n",
       "      <td>1</td>\n",
       "      <td>2</td>\n",
       "    </tr>\n",
       "    <tr>\n",
       "      <th>695</th>\n",
       "      <td>841769</td>\n",
       "      <td>2</td>\n",
       "      <td>1</td>\n",
       "      <td>1</td>\n",
       "      <td>1</td>\n",
       "      <td>2</td>\n",
       "      <td>1.0</td>\n",
       "      <td>1</td>\n",
       "      <td>1</td>\n",
       "      <td>1</td>\n",
       "      <td>2</td>\n",
       "    </tr>\n",
       "    <tr>\n",
       "      <th>696</th>\n",
       "      <td>888820</td>\n",
       "      <td>5</td>\n",
       "      <td>10</td>\n",
       "      <td>10</td>\n",
       "      <td>3</td>\n",
       "      <td>7</td>\n",
       "      <td>3.0</td>\n",
       "      <td>8</td>\n",
       "      <td>10</td>\n",
       "      <td>2</td>\n",
       "      <td>4</td>\n",
       "    </tr>\n",
       "    <tr>\n",
       "      <th>697</th>\n",
       "      <td>897471</td>\n",
       "      <td>4</td>\n",
       "      <td>8</td>\n",
       "      <td>6</td>\n",
       "      <td>4</td>\n",
       "      <td>3</td>\n",
       "      <td>4.0</td>\n",
       "      <td>10</td>\n",
       "      <td>6</td>\n",
       "      <td>1</td>\n",
       "      <td>4</td>\n",
       "    </tr>\n",
       "    <tr>\n",
       "      <th>698</th>\n",
       "      <td>897471</td>\n",
       "      <td>4</td>\n",
       "      <td>8</td>\n",
       "      <td>8</td>\n",
       "      <td>5</td>\n",
       "      <td>4</td>\n",
       "      <td>5.0</td>\n",
       "      <td>10</td>\n",
       "      <td>4</td>\n",
       "      <td>1</td>\n",
       "      <td>4</td>\n",
       "    </tr>\n",
       "  </tbody>\n",
       "</table>\n",
       "<p>699 rows × 11 columns</p>\n",
       "</div>"
      ],
      "text/plain": [
       "     Sample_code_number  Clump_thickness  Uniformity_of_cell_size  \\\n",
       "0               1000025                5                        1   \n",
       "1               1002945                5                        4   \n",
       "2               1015425                3                        1   \n",
       "3               1016277                6                        8   \n",
       "4               1017023                4                        1   \n",
       "..                  ...              ...                      ...   \n",
       "694              776715                3                        1   \n",
       "695              841769                2                        1   \n",
       "696              888820                5                       10   \n",
       "697              897471                4                        8   \n",
       "698              897471                4                        8   \n",
       "\n",
       "     Uniformity_of_cell_shape  Marginal_adhesion  Single_epithelial_cell_size  \\\n",
       "0                           1                  1                            2   \n",
       "1                           4                  5                            7   \n",
       "2                           1                  1                            2   \n",
       "3                           8                  1                            3   \n",
       "4                           1                  3                            2   \n",
       "..                        ...                ...                          ...   \n",
       "694                         1                  1                            3   \n",
       "695                         1                  1                            2   \n",
       "696                        10                  3                            7   \n",
       "697                         6                  4                            3   \n",
       "698                         8                  5                            4   \n",
       "\n",
       "     Bare_nuclei  Bland_chromatin  Normal_nucleoli  Mitoses  Class  \n",
       "0            1.0                3                1        1      2  \n",
       "1           10.0                3                2        1      2  \n",
       "2            2.0                3                1        1      2  \n",
       "3            4.0                3                7        1      2  \n",
       "4            1.0                3                1        1      2  \n",
       "..           ...              ...              ...      ...    ...  \n",
       "694          2.0                1                1        1      2  \n",
       "695          1.0                1                1        1      2  \n",
       "696          3.0                8               10        2      4  \n",
       "697          4.0               10                6        1      4  \n",
       "698          5.0               10                4        1      4  \n",
       "\n",
       "[699 rows x 11 columns]"
      ]
     },
     "execution_count": 7,
     "metadata": {},
     "output_type": "execute_result"
    }
   ],
   "source": [
    "breast_cancer = breast_cancer_wisconsin_original.data\n",
    "breast_cancer['original']"
   ]
  },
  {
   "cell_type": "code",
   "execution_count": 8,
   "id": "d74249d7",
   "metadata": {},
   "outputs": [
    {
     "data": {
      "text/plain": [
       "Clump_thickness                 0\n",
       "Uniformity_of_cell_size         0\n",
       "Uniformity_of_cell_shape        0\n",
       "Marginal_adhesion               0\n",
       "Single_epithelial_cell_size     0\n",
       "Bare_nuclei                    16\n",
       "Bland_chromatin                 0\n",
       "Normal_nucleoli                 0\n",
       "Mitoses                         0\n",
       "dtype: int64"
      ]
     },
     "execution_count": 8,
     "metadata": {},
     "output_type": "execute_result"
    }
   ],
   "source": [
    "X.isnull().sum()"
   ]
  },
  {
   "cell_type": "code",
   "execution_count": 9,
   "id": "d37d6e0c",
   "metadata": {},
   "outputs": [
    {
     "data": {
      "text/plain": [
       "Clump_thickness                0\n",
       "Uniformity_of_cell_size        0\n",
       "Uniformity_of_cell_shape       0\n",
       "Marginal_adhesion              0\n",
       "Single_epithelial_cell_size    0\n",
       "Bland_chromatin                0\n",
       "Normal_nucleoli                0\n",
       "Mitoses                        0\n",
       "dtype: int64"
      ]
     },
     "execution_count": 9,
     "metadata": {},
     "output_type": "execute_result"
    }
   ],
   "source": [
    "X = X.drop('Bare_nuclei' , axis = 1)\n",
    "X.isnull().sum()\n"
   ]
  },
  {
   "cell_type": "code",
   "execution_count": 10,
   "id": "ec7a74df",
   "metadata": {},
   "outputs": [],
   "source": [
    "X_train, X_test, y_train, y_test = train_test_split(X, y, test_size=0.3, random_state=25)\n"
   ]
  },
  {
   "cell_type": "code",
   "execution_count": 14,
   "id": "59d84d8b",
   "metadata": {},
   "outputs": [
    {
     "name": "stderr",
     "output_type": "stream",
     "text": [
      "/home/sarthakredasani/.local/lib/python3.11/site-packages/sklearn/utils/validation.py:1408: DataConversionWarning: A column-vector y was passed when a 1d array was expected. Please change the shape of y to (n_samples, ), for example using ravel().\n",
      "  y = column_or_1d(y, warn=True)\n"
     ]
    },
    {
     "data": {
      "text/html": [
       "<style>#sk-container-id-2 {\n",
       "  /* Definition of color scheme common for light and dark mode */\n",
       "  --sklearn-color-text: #000;\n",
       "  --sklearn-color-text-muted: #666;\n",
       "  --sklearn-color-line: gray;\n",
       "  /* Definition of color scheme for unfitted estimators */\n",
       "  --sklearn-color-unfitted-level-0: #fff5e6;\n",
       "  --sklearn-color-unfitted-level-1: #f6e4d2;\n",
       "  --sklearn-color-unfitted-level-2: #ffe0b3;\n",
       "  --sklearn-color-unfitted-level-3: chocolate;\n",
       "  /* Definition of color scheme for fitted estimators */\n",
       "  --sklearn-color-fitted-level-0: #f0f8ff;\n",
       "  --sklearn-color-fitted-level-1: #d4ebff;\n",
       "  --sklearn-color-fitted-level-2: #b3dbfd;\n",
       "  --sklearn-color-fitted-level-3: cornflowerblue;\n",
       "\n",
       "  /* Specific color for light theme */\n",
       "  --sklearn-color-text-on-default-background: var(--sg-text-color, var(--theme-code-foreground, var(--jp-content-font-color1, black)));\n",
       "  --sklearn-color-background: var(--sg-background-color, var(--theme-background, var(--jp-layout-color0, white)));\n",
       "  --sklearn-color-border-box: var(--sg-text-color, var(--theme-code-foreground, var(--jp-content-font-color1, black)));\n",
       "  --sklearn-color-icon: #696969;\n",
       "\n",
       "  @media (prefers-color-scheme: dark) {\n",
       "    /* Redefinition of color scheme for dark theme */\n",
       "    --sklearn-color-text-on-default-background: var(--sg-text-color, var(--theme-code-foreground, var(--jp-content-font-color1, white)));\n",
       "    --sklearn-color-background: var(--sg-background-color, var(--theme-background, var(--jp-layout-color0, #111)));\n",
       "    --sklearn-color-border-box: var(--sg-text-color, var(--theme-code-foreground, var(--jp-content-font-color1, white)));\n",
       "    --sklearn-color-icon: #878787;\n",
       "  }\n",
       "}\n",
       "\n",
       "#sk-container-id-2 {\n",
       "  color: var(--sklearn-color-text);\n",
       "}\n",
       "\n",
       "#sk-container-id-2 pre {\n",
       "  padding: 0;\n",
       "}\n",
       "\n",
       "#sk-container-id-2 input.sk-hidden--visually {\n",
       "  border: 0;\n",
       "  clip: rect(1px 1px 1px 1px);\n",
       "  clip: rect(1px, 1px, 1px, 1px);\n",
       "  height: 1px;\n",
       "  margin: -1px;\n",
       "  overflow: hidden;\n",
       "  padding: 0;\n",
       "  position: absolute;\n",
       "  width: 1px;\n",
       "}\n",
       "\n",
       "#sk-container-id-2 div.sk-dashed-wrapped {\n",
       "  border: 1px dashed var(--sklearn-color-line);\n",
       "  margin: 0 0.4em 0.5em 0.4em;\n",
       "  box-sizing: border-box;\n",
       "  padding-bottom: 0.4em;\n",
       "  background-color: var(--sklearn-color-background);\n",
       "}\n",
       "\n",
       "#sk-container-id-2 div.sk-container {\n",
       "  /* jupyter's `normalize.less` sets `[hidden] { display: none; }`\n",
       "     but bootstrap.min.css set `[hidden] { display: none !important; }`\n",
       "     so we also need the `!important` here to be able to override the\n",
       "     default hidden behavior on the sphinx rendered scikit-learn.org.\n",
       "     See: https://github.com/scikit-learn/scikit-learn/issues/21755 */\n",
       "  display: inline-block !important;\n",
       "  position: relative;\n",
       "}\n",
       "\n",
       "#sk-container-id-2 div.sk-text-repr-fallback {\n",
       "  display: none;\n",
       "}\n",
       "\n",
       "div.sk-parallel-item,\n",
       "div.sk-serial,\n",
       "div.sk-item {\n",
       "  /* draw centered vertical line to link estimators */\n",
       "  background-image: linear-gradient(var(--sklearn-color-text-on-default-background), var(--sklearn-color-text-on-default-background));\n",
       "  background-size: 2px 100%;\n",
       "  background-repeat: no-repeat;\n",
       "  background-position: center center;\n",
       "}\n",
       "\n",
       "/* Parallel-specific style estimator block */\n",
       "\n",
       "#sk-container-id-2 div.sk-parallel-item::after {\n",
       "  content: \"\";\n",
       "  width: 100%;\n",
       "  border-bottom: 2px solid var(--sklearn-color-text-on-default-background);\n",
       "  flex-grow: 1;\n",
       "}\n",
       "\n",
       "#sk-container-id-2 div.sk-parallel {\n",
       "  display: flex;\n",
       "  align-items: stretch;\n",
       "  justify-content: center;\n",
       "  background-color: var(--sklearn-color-background);\n",
       "  position: relative;\n",
       "}\n",
       "\n",
       "#sk-container-id-2 div.sk-parallel-item {\n",
       "  display: flex;\n",
       "  flex-direction: column;\n",
       "}\n",
       "\n",
       "#sk-container-id-2 div.sk-parallel-item:first-child::after {\n",
       "  align-self: flex-end;\n",
       "  width: 50%;\n",
       "}\n",
       "\n",
       "#sk-container-id-2 div.sk-parallel-item:last-child::after {\n",
       "  align-self: flex-start;\n",
       "  width: 50%;\n",
       "}\n",
       "\n",
       "#sk-container-id-2 div.sk-parallel-item:only-child::after {\n",
       "  width: 0;\n",
       "}\n",
       "\n",
       "/* Serial-specific style estimator block */\n",
       "\n",
       "#sk-container-id-2 div.sk-serial {\n",
       "  display: flex;\n",
       "  flex-direction: column;\n",
       "  align-items: center;\n",
       "  background-color: var(--sklearn-color-background);\n",
       "  padding-right: 1em;\n",
       "  padding-left: 1em;\n",
       "}\n",
       "\n",
       "\n",
       "/* Toggleable style: style used for estimator/Pipeline/ColumnTransformer box that is\n",
       "clickable and can be expanded/collapsed.\n",
       "- Pipeline and ColumnTransformer use this feature and define the default style\n",
       "- Estimators will overwrite some part of the style using the `sk-estimator` class\n",
       "*/\n",
       "\n",
       "/* Pipeline and ColumnTransformer style (default) */\n",
       "\n",
       "#sk-container-id-2 div.sk-toggleable {\n",
       "  /* Default theme specific background. It is overwritten whether we have a\n",
       "  specific estimator or a Pipeline/ColumnTransformer */\n",
       "  background-color: var(--sklearn-color-background);\n",
       "}\n",
       "\n",
       "/* Toggleable label */\n",
       "#sk-container-id-2 label.sk-toggleable__label {\n",
       "  cursor: pointer;\n",
       "  display: flex;\n",
       "  width: 100%;\n",
       "  margin-bottom: 0;\n",
       "  padding: 0.5em;\n",
       "  box-sizing: border-box;\n",
       "  text-align: center;\n",
       "  align-items: start;\n",
       "  justify-content: space-between;\n",
       "  gap: 0.5em;\n",
       "}\n",
       "\n",
       "#sk-container-id-2 label.sk-toggleable__label .caption {\n",
       "  font-size: 0.6rem;\n",
       "  font-weight: lighter;\n",
       "  color: var(--sklearn-color-text-muted);\n",
       "}\n",
       "\n",
       "#sk-container-id-2 label.sk-toggleable__label-arrow:before {\n",
       "  /* Arrow on the left of the label */\n",
       "  content: \"▸\";\n",
       "  float: left;\n",
       "  margin-right: 0.25em;\n",
       "  color: var(--sklearn-color-icon);\n",
       "}\n",
       "\n",
       "#sk-container-id-2 label.sk-toggleable__label-arrow:hover:before {\n",
       "  color: var(--sklearn-color-text);\n",
       "}\n",
       "\n",
       "/* Toggleable content - dropdown */\n",
       "\n",
       "#sk-container-id-2 div.sk-toggleable__content {\n",
       "  max-height: 0;\n",
       "  max-width: 0;\n",
       "  overflow: hidden;\n",
       "  text-align: left;\n",
       "  /* unfitted */\n",
       "  background-color: var(--sklearn-color-unfitted-level-0);\n",
       "}\n",
       "\n",
       "#sk-container-id-2 div.sk-toggleable__content.fitted {\n",
       "  /* fitted */\n",
       "  background-color: var(--sklearn-color-fitted-level-0);\n",
       "}\n",
       "\n",
       "#sk-container-id-2 div.sk-toggleable__content pre {\n",
       "  margin: 0.2em;\n",
       "  border-radius: 0.25em;\n",
       "  color: var(--sklearn-color-text);\n",
       "  /* unfitted */\n",
       "  background-color: var(--sklearn-color-unfitted-level-0);\n",
       "}\n",
       "\n",
       "#sk-container-id-2 div.sk-toggleable__content.fitted pre {\n",
       "  /* unfitted */\n",
       "  background-color: var(--sklearn-color-fitted-level-0);\n",
       "}\n",
       "\n",
       "#sk-container-id-2 input.sk-toggleable__control:checked~div.sk-toggleable__content {\n",
       "  /* Expand drop-down */\n",
       "  max-height: 200px;\n",
       "  max-width: 100%;\n",
       "  overflow: auto;\n",
       "}\n",
       "\n",
       "#sk-container-id-2 input.sk-toggleable__control:checked~label.sk-toggleable__label-arrow:before {\n",
       "  content: \"▾\";\n",
       "}\n",
       "\n",
       "/* Pipeline/ColumnTransformer-specific style */\n",
       "\n",
       "#sk-container-id-2 div.sk-label input.sk-toggleable__control:checked~label.sk-toggleable__label {\n",
       "  color: var(--sklearn-color-text);\n",
       "  background-color: var(--sklearn-color-unfitted-level-2);\n",
       "}\n",
       "\n",
       "#sk-container-id-2 div.sk-label.fitted input.sk-toggleable__control:checked~label.sk-toggleable__label {\n",
       "  background-color: var(--sklearn-color-fitted-level-2);\n",
       "}\n",
       "\n",
       "/* Estimator-specific style */\n",
       "\n",
       "/* Colorize estimator box */\n",
       "#sk-container-id-2 div.sk-estimator input.sk-toggleable__control:checked~label.sk-toggleable__label {\n",
       "  /* unfitted */\n",
       "  background-color: var(--sklearn-color-unfitted-level-2);\n",
       "}\n",
       "\n",
       "#sk-container-id-2 div.sk-estimator.fitted input.sk-toggleable__control:checked~label.sk-toggleable__label {\n",
       "  /* fitted */\n",
       "  background-color: var(--sklearn-color-fitted-level-2);\n",
       "}\n",
       "\n",
       "#sk-container-id-2 div.sk-label label.sk-toggleable__label,\n",
       "#sk-container-id-2 div.sk-label label {\n",
       "  /* The background is the default theme color */\n",
       "  color: var(--sklearn-color-text-on-default-background);\n",
       "}\n",
       "\n",
       "/* On hover, darken the color of the background */\n",
       "#sk-container-id-2 div.sk-label:hover label.sk-toggleable__label {\n",
       "  color: var(--sklearn-color-text);\n",
       "  background-color: var(--sklearn-color-unfitted-level-2);\n",
       "}\n",
       "\n",
       "/* Label box, darken color on hover, fitted */\n",
       "#sk-container-id-2 div.sk-label.fitted:hover label.sk-toggleable__label.fitted {\n",
       "  color: var(--sklearn-color-text);\n",
       "  background-color: var(--sklearn-color-fitted-level-2);\n",
       "}\n",
       "\n",
       "/* Estimator label */\n",
       "\n",
       "#sk-container-id-2 div.sk-label label {\n",
       "  font-family: monospace;\n",
       "  font-weight: bold;\n",
       "  display: inline-block;\n",
       "  line-height: 1.2em;\n",
       "}\n",
       "\n",
       "#sk-container-id-2 div.sk-label-container {\n",
       "  text-align: center;\n",
       "}\n",
       "\n",
       "/* Estimator-specific */\n",
       "#sk-container-id-2 div.sk-estimator {\n",
       "  font-family: monospace;\n",
       "  border: 1px dotted var(--sklearn-color-border-box);\n",
       "  border-radius: 0.25em;\n",
       "  box-sizing: border-box;\n",
       "  margin-bottom: 0.5em;\n",
       "  /* unfitted */\n",
       "  background-color: var(--sklearn-color-unfitted-level-0);\n",
       "}\n",
       "\n",
       "#sk-container-id-2 div.sk-estimator.fitted {\n",
       "  /* fitted */\n",
       "  background-color: var(--sklearn-color-fitted-level-0);\n",
       "}\n",
       "\n",
       "/* on hover */\n",
       "#sk-container-id-2 div.sk-estimator:hover {\n",
       "  /* unfitted */\n",
       "  background-color: var(--sklearn-color-unfitted-level-2);\n",
       "}\n",
       "\n",
       "#sk-container-id-2 div.sk-estimator.fitted:hover {\n",
       "  /* fitted */\n",
       "  background-color: var(--sklearn-color-fitted-level-2);\n",
       "}\n",
       "\n",
       "/* Specification for estimator info (e.g. \"i\" and \"?\") */\n",
       "\n",
       "/* Common style for \"i\" and \"?\" */\n",
       "\n",
       ".sk-estimator-doc-link,\n",
       "a:link.sk-estimator-doc-link,\n",
       "a:visited.sk-estimator-doc-link {\n",
       "  float: right;\n",
       "  font-size: smaller;\n",
       "  line-height: 1em;\n",
       "  font-family: monospace;\n",
       "  background-color: var(--sklearn-color-background);\n",
       "  border-radius: 1em;\n",
       "  height: 1em;\n",
       "  width: 1em;\n",
       "  text-decoration: none !important;\n",
       "  margin-left: 0.5em;\n",
       "  text-align: center;\n",
       "  /* unfitted */\n",
       "  border: var(--sklearn-color-unfitted-level-1) 1pt solid;\n",
       "  color: var(--sklearn-color-unfitted-level-1);\n",
       "}\n",
       "\n",
       ".sk-estimator-doc-link.fitted,\n",
       "a:link.sk-estimator-doc-link.fitted,\n",
       "a:visited.sk-estimator-doc-link.fitted {\n",
       "  /* fitted */\n",
       "  border: var(--sklearn-color-fitted-level-1) 1pt solid;\n",
       "  color: var(--sklearn-color-fitted-level-1);\n",
       "}\n",
       "\n",
       "/* On hover */\n",
       "div.sk-estimator:hover .sk-estimator-doc-link:hover,\n",
       ".sk-estimator-doc-link:hover,\n",
       "div.sk-label-container:hover .sk-estimator-doc-link:hover,\n",
       ".sk-estimator-doc-link:hover {\n",
       "  /* unfitted */\n",
       "  background-color: var(--sklearn-color-unfitted-level-3);\n",
       "  color: var(--sklearn-color-background);\n",
       "  text-decoration: none;\n",
       "}\n",
       "\n",
       "div.sk-estimator.fitted:hover .sk-estimator-doc-link.fitted:hover,\n",
       ".sk-estimator-doc-link.fitted:hover,\n",
       "div.sk-label-container:hover .sk-estimator-doc-link.fitted:hover,\n",
       ".sk-estimator-doc-link.fitted:hover {\n",
       "  /* fitted */\n",
       "  background-color: var(--sklearn-color-fitted-level-3);\n",
       "  color: var(--sklearn-color-background);\n",
       "  text-decoration: none;\n",
       "}\n",
       "\n",
       "/* Span, style for the box shown on hovering the info icon */\n",
       ".sk-estimator-doc-link span {\n",
       "  display: none;\n",
       "  z-index: 9999;\n",
       "  position: relative;\n",
       "  font-weight: normal;\n",
       "  right: .2ex;\n",
       "  padding: .5ex;\n",
       "  margin: .5ex;\n",
       "  width: min-content;\n",
       "  min-width: 20ex;\n",
       "  max-width: 50ex;\n",
       "  color: var(--sklearn-color-text);\n",
       "  box-shadow: 2pt 2pt 4pt #999;\n",
       "  /* unfitted */\n",
       "  background: var(--sklearn-color-unfitted-level-0);\n",
       "  border: .5pt solid var(--sklearn-color-unfitted-level-3);\n",
       "}\n",
       "\n",
       ".sk-estimator-doc-link.fitted span {\n",
       "  /* fitted */\n",
       "  background: var(--sklearn-color-fitted-level-0);\n",
       "  border: var(--sklearn-color-fitted-level-3);\n",
       "}\n",
       "\n",
       ".sk-estimator-doc-link:hover span {\n",
       "  display: block;\n",
       "}\n",
       "\n",
       "/* \"?\"-specific style due to the `<a>` HTML tag */\n",
       "\n",
       "#sk-container-id-2 a.estimator_doc_link {\n",
       "  float: right;\n",
       "  font-size: 1rem;\n",
       "  line-height: 1em;\n",
       "  font-family: monospace;\n",
       "  background-color: var(--sklearn-color-background);\n",
       "  border-radius: 1rem;\n",
       "  height: 1rem;\n",
       "  width: 1rem;\n",
       "  text-decoration: none;\n",
       "  /* unfitted */\n",
       "  color: var(--sklearn-color-unfitted-level-1);\n",
       "  border: var(--sklearn-color-unfitted-level-1) 1pt solid;\n",
       "}\n",
       "\n",
       "#sk-container-id-2 a.estimator_doc_link.fitted {\n",
       "  /* fitted */\n",
       "  border: var(--sklearn-color-fitted-level-1) 1pt solid;\n",
       "  color: var(--sklearn-color-fitted-level-1);\n",
       "}\n",
       "\n",
       "/* On hover */\n",
       "#sk-container-id-2 a.estimator_doc_link:hover {\n",
       "  /* unfitted */\n",
       "  background-color: var(--sklearn-color-unfitted-level-3);\n",
       "  color: var(--sklearn-color-background);\n",
       "  text-decoration: none;\n",
       "}\n",
       "\n",
       "#sk-container-id-2 a.estimator_doc_link.fitted:hover {\n",
       "  /* fitted */\n",
       "  background-color: var(--sklearn-color-fitted-level-3);\n",
       "}\n",
       "</style><div id=\"sk-container-id-2\" class=\"sk-top-container\"><div class=\"sk-text-repr-fallback\"><pre>LogisticRegression()</pre><b>In a Jupyter environment, please rerun this cell to show the HTML representation or trust the notebook. <br />On GitHub, the HTML representation is unable to render, please try loading this page with nbviewer.org.</b></div><div class=\"sk-container\" hidden><div class=\"sk-item\"><div class=\"sk-estimator fitted sk-toggleable\"><input class=\"sk-toggleable__control sk-hidden--visually\" id=\"sk-estimator-id-2\" type=\"checkbox\" checked><label for=\"sk-estimator-id-2\" class=\"sk-toggleable__label fitted sk-toggleable__label-arrow\"><div><div>LogisticRegression</div></div><div><a class=\"sk-estimator-doc-link fitted\" rel=\"noreferrer\" target=\"_blank\" href=\"https://scikit-learn.org/1.6/modules/generated/sklearn.linear_model.LogisticRegression.html\">?<span>Documentation for LogisticRegression</span></a><span class=\"sk-estimator-doc-link fitted\">i<span>Fitted</span></span></div></label><div class=\"sk-toggleable__content fitted\"><pre>LogisticRegression()</pre></div> </div></div></div></div>"
      ],
      "text/plain": [
       "LogisticRegression()"
      ]
     },
     "execution_count": 14,
     "metadata": {},
     "output_type": "execute_result"
    }
   ],
   "source": [
    "lr = LogisticRegression()\n",
    "lr.fit(X_train, y_train)"
   ]
  },
  {
   "cell_type": "code",
   "execution_count": 15,
   "id": "76217ca4",
   "metadata": {},
   "outputs": [
    {
     "data": {
      "text/plain": [
       "(array([[ 0.5580301 , -0.10170841,  0.57368096,  0.39141673,  0.11932005,\n",
       "          0.52792448,  0.14775643,  0.85401865]]),\n",
       " array([-9.87152396]))"
      ]
     },
     "execution_count": 15,
     "metadata": {},
     "output_type": "execute_result"
    }
   ],
   "source": [
    "lr.coef_, lr.intercept_"
   ]
  },
  {
   "cell_type": "code",
   "execution_count": 16,
   "id": "0a9f7b0c",
   "metadata": {},
   "outputs": [
    {
     "data": {
      "text/plain": [
       "array([[9.93357978e-01, 6.64202205e-03],\n",
       "       [9.80577702e-01, 1.94222983e-02],\n",
       "       [4.84481409e-04, 9.99515519e-01],\n",
       "       [9.98748006e-01, 1.25199410e-03],\n",
       "       [1.59226672e-08, 9.99999984e-01],\n",
       "       [9.96409676e-01, 3.59032420e-03],\n",
       "       [1.20139169e-04, 9.99879861e-01],\n",
       "       [6.69806758e-07, 9.99999330e-01],\n",
       "       [1.21259372e-05, 9.99987874e-01],\n",
       "       [2.73144407e-02, 9.72685559e-01],\n",
       "       [9.60365160e-06, 9.99990396e-01],\n",
       "       [2.09448645e-03, 9.97905514e-01],\n",
       "       [9.96187707e-01, 3.81229339e-03],\n",
       "       [9.97814526e-01, 2.18547362e-03],\n",
       "       [2.40075743e-08, 9.99999976e-01],\n",
       "       [9.81142846e-01, 1.88571539e-02],\n",
       "       [9.96242210e-01, 3.75778958e-03],\n",
       "       [7.72651358e-05, 9.99922735e-01],\n",
       "       [2.55133003e-02, 9.74486700e-01],\n",
       "       [9.81839269e-01, 1.81607310e-02],\n",
       "       [4.17718654e-01, 5.82281346e-01],\n",
       "       [9.89119638e-01, 1.08803618e-02],\n",
       "       [9.79686832e-01, 2.03131683e-02],\n",
       "       [9.13159370e-01, 8.68406301e-02],\n",
       "       [1.17790298e-05, 9.99988221e-01],\n",
       "       [3.79462626e-04, 9.99620537e-01],\n",
       "       [9.76654306e-01, 2.33456945e-02],\n",
       "       [3.04707729e-04, 9.99695292e-01],\n",
       "       [1.59328965e-03, 9.98406710e-01],\n",
       "       [9.98411103e-01, 1.58889733e-03],\n",
       "       [1.07325354e-03, 9.98926746e-01],\n",
       "       [9.96887220e-01, 3.11277955e-03],\n",
       "       [3.28342778e-04, 9.99671657e-01],\n",
       "       [9.62854147e-01, 3.71458534e-02],\n",
       "       [9.93357978e-01, 6.64202205e-03],\n",
       "       [2.12070789e-03, 9.97879292e-01],\n",
       "       [9.81142846e-01, 1.88571539e-02],\n",
       "       [9.93357978e-01, 6.64202205e-03],\n",
       "       [3.63601361e-01, 6.36398639e-01],\n",
       "       [4.87643669e-02, 9.51235633e-01],\n",
       "       [1.09854365e-01, 8.90145635e-01],\n",
       "       [1.92842594e-02, 9.80715741e-01],\n",
       "       [9.97879203e-01, 2.12079658e-03],\n",
       "       [3.56454543e-04, 9.99643545e-01],\n",
       "       [9.96812215e-01, 3.18778515e-03],\n",
       "       [3.35375652e-05, 9.99966462e-01],\n",
       "       [9.96770902e-01, 3.22909798e-03],\n",
       "       [9.97450211e-01, 2.54978925e-03],\n",
       "       [9.78463552e-01, 2.15364481e-02],\n",
       "       [4.98270058e-02, 9.50172994e-01],\n",
       "       [9.97879203e-01, 2.12079658e-03],\n",
       "       [9.93553690e-01, 6.44630969e-03],\n",
       "       [4.06798630e-03, 9.95932014e-01],\n",
       "       [3.00242157e-03, 9.96997578e-01],\n",
       "       [9.96300349e-01, 3.69965065e-03],\n",
       "       [9.83509348e-01, 1.64906522e-02],\n",
       "       [9.90629910e-01, 9.37009009e-03],\n",
       "       [9.89737717e-01, 1.02622834e-02],\n",
       "       [9.65523359e-01, 3.44766415e-02],\n",
       "       [9.48659481e-03, 9.90513405e-01],\n",
       "       [9.89119638e-01, 1.08803618e-02],\n",
       "       [9.98888669e-01, 1.11133094e-03],\n",
       "       [9.37752504e-01, 6.22474963e-02],\n",
       "       [2.62753945e-05, 9.99973725e-01],\n",
       "       [9.98748006e-01, 1.25199410e-03],\n",
       "       [5.90134240e-01, 4.09865760e-01],\n",
       "       [6.43379884e-02, 9.35662012e-01],\n",
       "       [9.63967344e-01, 3.60326561e-02],\n",
       "       [9.93743672e-01, 6.25632784e-03],\n",
       "       [8.17923716e-05, 9.99918208e-01],\n",
       "       [9.89119638e-01, 1.08803618e-02],\n",
       "       [9.96409676e-01, 3.59032420e-03],\n",
       "       [9.98748006e-01, 1.25199410e-03],\n",
       "       [9.93553690e-01, 6.44630969e-03],\n",
       "       [9.97265127e-01, 2.73487346e-03],\n",
       "       [6.00727164e-05, 9.99939927e-01],\n",
       "       [9.98059863e-01, 1.94013656e-03],\n",
       "       [8.62165107e-03, 9.91378349e-01],\n",
       "       [2.81730619e-01, 7.18269381e-01],\n",
       "       [9.96187707e-01, 3.81229339e-03],\n",
       "       [9.97571988e-01, 2.42801190e-03],\n",
       "       [3.46697165e-01, 6.53302835e-01],\n",
       "       [9.80277377e-01, 1.97226229e-02],\n",
       "       [9.41274356e-01, 5.87256437e-02],\n",
       "       [9.82935347e-01, 1.70646528e-02],\n",
       "       [9.94825418e-01, 5.17458183e-03],\n",
       "       [9.80577702e-01, 1.94222983e-02],\n",
       "       [9.63788303e-01, 3.62116975e-02],\n",
       "       [9.92534904e-01, 7.46509631e-03],\n",
       "       [9.80277377e-01, 1.97226229e-02],\n",
       "       [4.44758400e-01, 5.55241600e-01],\n",
       "       [4.68188588e-04, 9.99531811e-01],\n",
       "       [6.68993073e-01, 3.31006927e-01],\n",
       "       [9.93357978e-01, 6.64202205e-03],\n",
       "       [9.98748006e-01, 1.25199410e-03],\n",
       "       [9.98117294e-01, 1.88270634e-03],\n",
       "       [5.02068692e-01, 4.97931308e-01],\n",
       "       [9.97879203e-01, 2.12079658e-03],\n",
       "       [9.45109524e-01, 5.48904764e-02],\n",
       "       [9.41803451e-01, 5.81965494e-02],\n",
       "       [9.27991290e-03, 9.90720087e-01],\n",
       "       [9.75079084e-01, 2.49209164e-02],\n",
       "       [9.93553690e-01, 6.44630969e-03],\n",
       "       [2.51502976e-01, 7.48497024e-01],\n",
       "       [9.88452191e-01, 1.15478089e-02],\n",
       "       [9.02433925e-01, 9.75660751e-02],\n",
       "       [9.94274596e-01, 5.72540391e-03],\n",
       "       [9.90161494e-01, 9.83850577e-03],\n",
       "       [1.92591304e-05, 9.99980741e-01],\n",
       "       [9.93553690e-01, 6.44630969e-03],\n",
       "       [4.87376324e-01, 5.12623676e-01],\n",
       "       [9.77554495e-01, 2.24455053e-02],\n",
       "       [9.98748006e-01, 1.25199410e-03],\n",
       "       [9.83509348e-01, 1.64906522e-02],\n",
       "       [9.97994376e-01, 2.00562403e-03],\n",
       "       [3.42704731e-04, 9.99657295e-01],\n",
       "       [6.14958677e-04, 9.99385041e-01],\n",
       "       [9.98117294e-01, 1.88270634e-03],\n",
       "       [9.97879203e-01, 2.12079658e-03],\n",
       "       [9.89119638e-01, 1.08803618e-02],\n",
       "       [8.63576258e-01, 1.36423742e-01],\n",
       "       [9.82205909e-01, 1.77940913e-02],\n",
       "       [8.21805962e-01, 1.78194038e-01],\n",
       "       [9.93553690e-01, 6.44630969e-03],\n",
       "       [9.88616025e-01, 1.13839753e-02],\n",
       "       [9.98748006e-01, 1.25199410e-03],\n",
       "       [5.48148112e-04, 9.99451852e-01],\n",
       "       [5.08390889e-03, 9.94916091e-01],\n",
       "       [9.96866367e-01, 3.13363285e-03],\n",
       "       [9.80277377e-01, 1.97226229e-02],\n",
       "       [2.10954259e-08, 9.99999979e-01],\n",
       "       [9.43753153e-01, 5.62468474e-02],\n",
       "       [9.96187707e-01, 3.81229339e-03],\n",
       "       [9.93553690e-01, 6.44630969e-03],\n",
       "       [9.98748006e-01, 1.25199410e-03],\n",
       "       [9.75079084e-01, 2.49209164e-02],\n",
       "       [9.98888669e-01, 1.11133094e-03],\n",
       "       [3.91733907e-05, 9.99960827e-01],\n",
       "       [7.83394110e-01, 2.16605890e-01],\n",
       "       [1.55001963e-04, 9.99844998e-01],\n",
       "       [8.44014101e-01, 1.55985899e-01],\n",
       "       [9.79686832e-01, 2.03131683e-02],\n",
       "       [8.01165994e-02, 9.19883401e-01],\n",
       "       [1.10121393e-02, 9.88987861e-01],\n",
       "       [9.98748006e-01, 1.25199410e-03],\n",
       "       [3.17606448e-01, 6.82393552e-01],\n",
       "       [9.93553690e-01, 6.44630969e-03],\n",
       "       [9.71537802e-01, 2.84621980e-02],\n",
       "       [9.94274596e-01, 5.72540391e-03],\n",
       "       [2.55773466e-05, 9.99974423e-01],\n",
       "       [9.96187707e-01, 3.81229339e-03],\n",
       "       [9.80577702e-01, 1.94222983e-02],\n",
       "       [9.98748006e-01, 1.25199410e-03],\n",
       "       [9.95706647e-01, 4.29335285e-03],\n",
       "       [3.51958737e-02, 9.64804126e-01],\n",
       "       [9.90774076e-01, 9.22592416e-03],\n",
       "       [9.64507036e-01, 3.54929642e-02],\n",
       "       [5.09082422e-02, 9.49091758e-01],\n",
       "       [9.44578203e-01, 5.54217973e-02],\n",
       "       [9.96979257e-01, 3.02074284e-03],\n",
       "       [3.67125878e-03, 9.96328741e-01],\n",
       "       [9.70651045e-01, 2.93489548e-02],\n",
       "       [9.66339032e-01, 3.36609677e-02],\n",
       "       [1.10913168e-05, 9.99988909e-01],\n",
       "       [9.96409676e-01, 3.59032420e-03],\n",
       "       [9.93743672e-01, 6.25632784e-03],\n",
       "       [9.98748006e-01, 1.25199410e-03],\n",
       "       [9.88790825e-01, 1.12091749e-02],\n",
       "       [8.16316802e-05, 9.99918368e-01],\n",
       "       [9.25483970e-01, 7.45160299e-02],\n",
       "       [9.97879203e-01, 2.12079658e-03],\n",
       "       [9.98888669e-01, 1.11133094e-03],\n",
       "       [9.93743672e-01, 6.25632784e-03],\n",
       "       [9.79088901e-01, 2.09110986e-02],\n",
       "       [9.97499507e-01, 2.50049252e-03],\n",
       "       [9.35379208e-01, 6.46207918e-02],\n",
       "       [9.96409676e-01, 3.59032420e-03],\n",
       "       [9.98748006e-01, 1.25199410e-03],\n",
       "       [9.92742675e-01, 7.25732472e-03],\n",
       "       [9.94274596e-01, 5.72540391e-03],\n",
       "       [6.37397571e-04, 9.99362602e-01],\n",
       "       [6.14022664e-03, 9.93859773e-01],\n",
       "       [9.93989310e-01, 6.01068968e-03],\n",
       "       [9.82150650e-01, 1.78493497e-02],\n",
       "       [9.96812215e-01, 3.18778515e-03],\n",
       "       [3.10988292e-05, 9.99968901e-01],\n",
       "       [9.26883712e-01, 7.31162875e-02],\n",
       "       [5.81024457e-01, 4.18975543e-01],\n",
       "       [4.23560465e-03, 9.95764395e-01],\n",
       "       [2.48907040e-03, 9.97510930e-01],\n",
       "       [9.77554495e-01, 2.24455053e-02],\n",
       "       [9.96409676e-01, 3.59032420e-03],\n",
       "       [3.30110006e-03, 9.96698900e-01],\n",
       "       [8.60356831e-01, 1.39643169e-01],\n",
       "       [9.89863844e-01, 1.01361558e-02],\n",
       "       [9.69839845e-03, 9.90301602e-01],\n",
       "       [7.77045968e-02, 9.22295403e-01],\n",
       "       [9.97814526e-01, 2.18547362e-03],\n",
       "       [9.80577702e-01, 1.94222983e-02],\n",
       "       [2.13746676e-06, 9.99997863e-01],\n",
       "       [9.98748006e-01, 1.25199410e-03],\n",
       "       [8.99969124e-03, 9.91000309e-01],\n",
       "       [1.67515406e-03, 9.98324846e-01],\n",
       "       [9.96409676e-01, 3.59032420e-03],\n",
       "       [9.61954824e-02, 9.03804518e-01],\n",
       "       [2.50773490e-03, 9.97492265e-01],\n",
       "       [9.80577702e-01, 1.94222983e-02],\n",
       "       [9.96300349e-01, 3.69965065e-03],\n",
       "       [2.69462321e-05, 9.99973054e-01],\n",
       "       [6.48516750e-04, 9.99351483e-01]])"
      ]
     },
     "execution_count": 16,
     "metadata": {},
     "output_type": "execute_result"
    }
   ],
   "source": [
    "lr.predict_proba(X_test)"
   ]
  },
  {
   "cell_type": "code",
   "execution_count": 17,
   "id": "39ed694a",
   "metadata": {},
   "outputs": [
    {
     "data": {
      "text/plain": [
       "3"
      ]
     },
     "execution_count": 17,
     "metadata": {},
     "output_type": "execute_result"
    }
   ],
   "source": [
    "a = np.array([4,6,7,8,1,0])\n",
    "np.argmax(a)"
   ]
  },
  {
   "cell_type": "code",
   "execution_count": 18,
   "id": "bedcf038",
   "metadata": {},
   "outputs": [
    {
     "data": {
      "text/plain": [
       "array([2, 2, 4, 2, 4, 2, 4, 4, 4, 4, 4, 4, 2, 2, 4, 2, 2, 4, 4, 2, 4, 2,\n",
       "       2, 2, 4, 4, 2, 4, 4, 2, 4, 2, 4, 2, 2, 4, 2, 2, 4, 4, 4, 4, 2, 4,\n",
       "       2, 4, 2, 2, 2, 4, 2, 2, 4, 4, 2, 2, 2, 2, 2, 4, 2, 2, 2, 4, 2, 2,\n",
       "       4, 2, 2, 4, 2, 2, 2, 2, 2, 4, 2, 4, 4, 2, 2, 4, 2, 2, 2, 2, 2, 2,\n",
       "       2, 2, 4, 4, 2, 2, 2, 2, 2, 2, 2, 2, 4, 2, 2, 4, 2, 2, 2, 2, 4, 2,\n",
       "       4, 2, 2, 2, 2, 4, 4, 2, 2, 2, 2, 2, 2, 2, 2, 2, 4, 4, 2, 2, 4, 2,\n",
       "       2, 2, 2, 2, 2, 4, 2, 4, 2, 2, 4, 4, 2, 4, 2, 2, 2, 4, 2, 2, 2, 2,\n",
       "       4, 2, 2, 4, 2, 2, 4, 2, 2, 4, 2, 2, 2, 2, 4, 2, 2, 2, 2, 2, 2, 2,\n",
       "       2, 2, 2, 2, 4, 4, 2, 2, 2, 4, 2, 2, 4, 4, 2, 2, 4, 2, 2, 4, 4, 2,\n",
       "       2, 4, 2, 4, 4, 2, 4, 4, 2, 2, 4, 4])"
      ]
     },
     "execution_count": 18,
     "metadata": {},
     "output_type": "execute_result"
    }
   ],
   "source": [
    "y_pred = lr.predict(X_test)\n",
    "y_pred"
   ]
  },
  {
   "cell_type": "code",
   "execution_count": 19,
   "id": "3f0f13b9",
   "metadata": {},
   "outputs": [
    {
     "data": {
      "text/html": [
       "<div>\n",
       "<style scoped>\n",
       "    .dataframe tbody tr th:only-of-type {\n",
       "        vertical-align: middle;\n",
       "    }\n",
       "\n",
       "    .dataframe tbody tr th {\n",
       "        vertical-align: top;\n",
       "    }\n",
       "\n",
       "    .dataframe thead th {\n",
       "        text-align: right;\n",
       "    }\n",
       "</style>\n",
       "<table border=\"1\" class=\"dataframe\">\n",
       "  <thead>\n",
       "    <tr style=\"text-align: right;\">\n",
       "      <th></th>\n",
       "      <th>Class</th>\n",
       "    </tr>\n",
       "  </thead>\n",
       "  <tbody>\n",
       "    <tr>\n",
       "      <th>437</th>\n",
       "      <td>2</td>\n",
       "    </tr>\n",
       "    <tr>\n",
       "      <th>511</th>\n",
       "      <td>2</td>\n",
       "    </tr>\n",
       "    <tr>\n",
       "      <th>215</th>\n",
       "      <td>4</td>\n",
       "    </tr>\n",
       "    <tr>\n",
       "      <th>684</th>\n",
       "      <td>2</td>\n",
       "    </tr>\n",
       "    <tr>\n",
       "      <th>302</th>\n",
       "      <td>4</td>\n",
       "    </tr>\n",
       "  </tbody>\n",
       "</table>\n",
       "</div>"
      ],
      "text/plain": [
       "     Class\n",
       "437      2\n",
       "511      2\n",
       "215      4\n",
       "684      2\n",
       "302      4"
      ]
     },
     "execution_count": 19,
     "metadata": {},
     "output_type": "execute_result"
    }
   ],
   "source": [
    "y_test.head()"
   ]
  },
  {
   "cell_type": "code",
   "execution_count": 20,
   "id": "0398d226",
   "metadata": {},
   "outputs": [
    {
     "data": {
      "text/plain": [
       "array([2, 2, 4, 2, 4, 2, 4, 4, 4, 4, 4, 4, 2, 2, 4, 2, 2, 4, 4, 2, 2, 2,\n",
       "       2, 2, 4, 4, 2, 4, 4, 2, 4, 2, 4, 2, 2, 4, 2, 2, 2, 4, 2, 4, 2, 4,\n",
       "       2, 4, 2, 2, 2, 4, 2, 2, 2, 4, 2, 2, 2, 2, 2, 4, 2, 2, 2, 4, 2, 4,\n",
       "       4, 2, 2, 4, 2, 2, 2, 2, 2, 4, 2, 4, 4, 2, 2, 4, 2, 2, 2, 2, 2, 2,\n",
       "       2, 2, 4, 4, 2, 2, 2, 2, 4, 2, 2, 2, 4, 2, 2, 4, 2, 2, 2, 2, 4, 2,\n",
       "       2, 2, 2, 2, 2, 4, 4, 2, 2, 2, 2, 2, 2, 2, 2, 2, 4, 4, 2, 2, 4, 2,\n",
       "       2, 2, 2, 2, 2, 4, 2, 4, 2, 2, 4, 4, 2, 4, 2, 2, 2, 4, 2, 2, 2, 2,\n",
       "       4, 2, 2, 4, 2, 2, 4, 2, 2, 4, 2, 2, 2, 2, 4, 2, 2, 2, 2, 2, 2, 2,\n",
       "       2, 2, 2, 2, 4, 4, 2, 2, 2, 4, 2, 4, 4, 4, 2, 2, 4, 4, 2, 4, 4, 2,\n",
       "       2, 4, 2, 4, 4, 2, 4, 4, 2, 2, 4, 4])"
      ]
     },
     "execution_count": 20,
     "metadata": {},
     "output_type": "execute_result"
    }
   ],
   "source": [
    "y_test['Class'].values"
   ]
  },
  {
   "cell_type": "code",
   "execution_count": 21,
   "id": "e2659d27",
   "metadata": {},
   "outputs": [
    {
     "data": {
      "text/plain": [
       "array([[133,   5],\n",
       "       [  4,  68]])"
      ]
     },
     "execution_count": 21,
     "metadata": {},
     "output_type": "execute_result"
    }
   ],
   "source": [
    "confusion_matrix(y_test['Class'].values, y_pred)"
   ]
  },
  {
   "cell_type": "code",
   "execution_count": 23,
   "id": "135ce410",
   "metadata": {},
   "outputs": [
    {
     "data": {
      "image/png": "[encoded data removed]",
      "text/plain": [
       "<Figure size 640x480 with 2 Axes>"
      ]
     },
     "metadata": {},
     "output_type": "display_data"
    }
   ],
   "source": [
    "cm = confusion_matrix(y_test['Class'].values, y_pred)\n",
    "disp = ConfusionMatrixDisplay(confusion_matrix=cm, display_labels=['Benign', 'Malignant'])\n",
    "disp.plot()\n",
    "plt.show()"
   ]
  },
  {
   "cell_type": "code",
   "execution_count": 24,
   "id": "55f51d31",
   "metadata": {},
   "outputs": [
    {
     "data": {
      "text/plain": [
       "0.9571428571428572"
      ]
     },
     "execution_count": 24,
     "metadata": {},
     "output_type": "execute_result"
    }
   ],
   "source": [
    "accuracy_score(y_test['Class'].values, y_pred)"
   ]
  },
  {
   "cell_type": "code",
   "execution_count": null,
   "id": "28cc464c",
   "metadata": {},
   "outputs": [
    {
     "data": {
      "text/plain": [
       "0.9637681159420289"
      ]
     },
     "execution_count": 25,
     "metadata": {},
     "output_type": "execute_result"
    }
   ],
   "source": [
    "recall_score(y_test['Class'].values, y_pred, pos_label=2)"
   ]
  },
  {
   "cell_type": "code",
   "execution_count": 26,
   "id": "6f4824a3",
   "metadata": {},
   "outputs": [
    {
     "data": {
      "text/plain": [
       "0.9444444444444444"
      ]
     },
     "execution_count": 26,
     "metadata": {},
     "output_type": "execute_result"
    }
   ],
   "source": [
    "recall_score(y_test['Class'].values, y_pred, pos_label=4)"
   ]
  },
  {
   "cell_type": "code",
   "execution_count": 27,
   "id": "31250327",
   "metadata": {},
   "outputs": [
    {
     "data": {
      "text/plain": [
       "0.9708029197080292"
      ]
     },
     "execution_count": 27,
     "metadata": {},
     "output_type": "execute_result"
    }
   ],
   "source": [
    "precision_score(y_test['Class'].values, y_pred, pos_label=2)"
   ]
  },
  {
   "cell_type": "code",
   "execution_count": 28,
   "id": "7de96717",
   "metadata": {},
   "outputs": [
    {
     "data": {
      "text/plain": [
       "0.9315068493150684"
      ]
     },
     "execution_count": 28,
     "metadata": {},
     "output_type": "execute_result"
    }
   ],
   "source": [
    "precision_score(y_test['Class'].values, y_pred, pos_label=4)"
   ]
  },
  {
   "cell_type": "code",
   "execution_count": 29,
   "id": "1faf7a26",
   "metadata": {},
   "outputs": [
    {
     "data": {
      "text/plain": [
       "0.9672727272727273"
      ]
     },
     "execution_count": 29,
     "metadata": {},
     "output_type": "execute_result"
    }
   ],
   "source": [
    "f1_score(y_test['Class'].values, y_pred, pos_label=2)"
   ]
  },
  {
   "cell_type": "code",
   "execution_count": 30,
   "id": "f9fa8fe0",
   "metadata": {},
   "outputs": [
    {
     "data": {
      "text/plain": [
       "0.9379310344827586"
      ]
     },
     "execution_count": 30,
     "metadata": {},
     "output_type": "execute_result"
    }
   ],
   "source": [
    "f1_score(y_test['Class'].values, y_pred, pos_label=4)"
   ]
  },
  {
   "cell_type": "code",
   "execution_count": 31,
   "id": "0d252a7f",
   "metadata": {},
   "outputs": [
    {
     "name": "stdout",
     "output_type": "stream",
     "text": [
      "              precision    recall  f1-score   support\n",
      "\n",
      "           2       0.97      0.96      0.97       138\n",
      "           4       0.93      0.94      0.94        72\n",
      "\n",
      "    accuracy                           0.96       210\n",
      "   macro avg       0.95      0.95      0.95       210\n",
      "weighted avg       0.96      0.96      0.96       210\n",
      "\n"
     ]
    }
   ],
   "source": [
    "print(classification_report(y_test['Class'].values, y_pred))"
   ]
  },
  {
   "cell_type": "code",
   "execution_count": 32,
   "id": "3a392a5c",
   "metadata": {},
   "outputs": [
    {
     "data": {
      "text/plain": [
       "Class\n",
       "2    138\n",
       "4     72\n",
       "Name: count, dtype: int64"
      ]
     },
     "execution_count": 32,
     "metadata": {},
     "output_type": "execute_result"
    }
   ],
   "source": [
    "y_test['Class'].value_counts()"
   ]
  },
  {
   "cell_type": "code",
   "execution_count": 33,
   "id": "b8032ce7",
   "metadata": {},
   "outputs": [],
   "source": [
    "# No penalty"
   ]
  },
  {
   "cell_type": "code",
   "execution_count": 34,
   "id": "86fc4d16",
   "metadata": {},
   "outputs": [
    {
     "name": "stdout",
     "output_type": "stream",
     "text": [
      "              precision    recall  f1-score   support\n",
      "\n",
      "           2       0.98      0.95      0.96       138\n",
      "           4       0.91      0.96      0.93        72\n",
      "\n",
      "    accuracy                           0.95       210\n",
      "   macro avg       0.94      0.95      0.95       210\n",
      "weighted avg       0.95      0.95      0.95       210\n",
      "\n"
     ]
    },
    {
     "name": "stderr",
     "output_type": "stream",
     "text": [
      "/home/sarthakredasani/.local/lib/python3.11/site-packages/sklearn/utils/validation.py:1408: DataConversionWarning: A column-vector y was passed when a 1d array was expected. Please change the shape of y to (n_samples, ), for example using ravel().\n",
      "  y = column_or_1d(y, warn=True)\n"
     ]
    }
   ],
   "source": [
    "lr = LogisticRegression(penalty=None)\n",
    "lr.fit(X_train, y_train)\n",
    "y_pred = lr.predict(X_test)\n",
    "print(classification_report(y_test['Class'].values, y_pred))"
   ]
  },
  {
   "cell_type": "code",
   "execution_count": 35,
   "id": "1e7e496d",
   "metadata": {},
   "outputs": [],
   "source": [
    "# with penalty = l1 and solver liblinear"
   ]
  },
  {
   "cell_type": "code",
   "execution_count": 36,
   "id": "2d9e0bd7",
   "metadata": {},
   "outputs": [
    {
     "name": "stdout",
     "output_type": "stream",
     "text": [
      "              precision    recall  f1-score   support\n",
      "\n",
      "           2       0.98      0.97      0.97       138\n",
      "           4       0.95      0.96      0.95        72\n",
      "\n",
      "    accuracy                           0.97       210\n",
      "   macro avg       0.96      0.96      0.96       210\n",
      "weighted avg       0.97      0.97      0.97       210\n",
      "\n"
     ]
    },
    {
     "name": "stderr",
     "output_type": "stream",
     "text": [
      "/home/sarthakredasani/.local/lib/python3.11/site-packages/sklearn/utils/validation.py:1408: DataConversionWarning: A column-vector y was passed when a 1d array was expected. Please change the shape of y to (n_samples, ), for example using ravel().\n",
      "  y = column_or_1d(y, warn=True)\n"
     ]
    }
   ],
   "source": [
    "lr = LogisticRegression(penalty='l1', solver='liblinear')\n",
    "lr.fit(X_train, y_train)\n",
    "y_pred = lr.predict(X_test)\n",
    "print(classification_report(y_test['Class'].values, y_pred))"
   ]
  },
  {
   "cell_type": "code",
   "execution_count": 37,
   "id": "268a1f6e",
   "metadata": {},
   "outputs": [
    {
     "name": "stdout",
     "output_type": "stream",
     "text": [
      "              precision    recall  f1-score   support\n",
      "\n",
      "           2       0.97      0.98      0.97       138\n",
      "           4       0.96      0.94      0.95        72\n",
      "\n",
      "    accuracy                           0.97       210\n",
      "   macro avg       0.96      0.96      0.96       210\n",
      "weighted avg       0.97      0.97      0.97       210\n",
      "\n"
     ]
    },
    {
     "name": "stderr",
     "output_type": "stream",
     "text": [
      "/home/sarthakredasani/.local/lib/python3.11/site-packages/sklearn/linear_model/_logistic.py:1196: UserWarning: l1_ratio parameter is only used when penalty is 'elasticnet'. Got (penalty=None)\n",
      "  warnings.warn(\n",
      "/home/sarthakredasani/.local/lib/python3.11/site-packages/sklearn/utils/validation.py:1408: DataConversionWarning: A column-vector y was passed when a 1d array was expected. Please change the shape of y to (n_samples, ), for example using ravel().\n",
      "  y = column_or_1d(y, warn=True)\n",
      "/home/sarthakredasani/.local/lib/python3.11/site-packages/sklearn/linear_model/_sag.py:348: ConvergenceWarning: The max_iter was reached which means the coef_ did not converge\n",
      "  warnings.warn(\n"
     ]
    }
   ],
   "source": [
    "lr = LogisticRegression(penalty=None, solver='saga', l1_ratio=0.5)\n",
    "lr.fit(X_train, y_train)\n",
    "y_pred = lr.predict(X_test)\n",
    "print(classification_report(y_test['Class'].values, y_pred))"
   ]
  },
  {
   "cell_type": "code",
   "execution_count": null,
   "id": "88391814",
   "metadata": {},
   "outputs": [],
   "source": []
  }
 ],
 "metadata": {
  "kernelspec": {
   "display_name": "Python 3",
   "language": "python",
   "name": "python3"
  },
  "language_info": {
   "codemirror_mode": {
    "name": "ipython",
    "version": 3
   },
   "file_extension": ".py",
   "mimetype": "text/x-python",
   "name": "python",
   "nbconvert_exporter": "python",
   "pygments_lexer": "ipython3",
   "version": "3.11.9"
  }
 },
 "nbformat": 4,
 "nbformat_minor": 5
}

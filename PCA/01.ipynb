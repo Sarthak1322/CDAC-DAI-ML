{
 "cells": [
  {
   "cell_type": "code",
   "execution_count": 1,
   "id": "10588dff",
   "metadata": {},
   "outputs": [
    {
     "data": {
      "text/plain": [
       "'\\nPCA (Principal Component Analysis) is a dimensionality reduction \\ntechnique used in machine learning and statistics.\\n Its main goal is to reduce the number of features (dimensions) in a dataset\\n while retaining as much variance (information) as possible.\\n'"
      ]
     },
     "execution_count": 1,
     "metadata": {},
     "output_type": "execute_result"
    }
   ],
   "source": [
    "\"\"\"\n",
    "PCA (Principal Component Analysis) is a dimensionality reduction \n",
    "technique used in machine learning and statistics.\n",
    " Its main goal is to reduce the number of features (dimensions) in a dataset\n",
    " while retaining as much variance (information) as possible.\n",
    "\"\"\""
   ]
  },
  {
   "cell_type": "code",
   "execution_count": 2,
   "id": "d098ca2a",
   "metadata": {},
   "outputs": [],
   "source": [
    "import pandas as pd\n",
    "import numpy as np\n",
    "import os\n",
    "import matplotlib.pyplot as plt\n",
    "from sklearn.decomposition import *\n",
    "from sklearn.preprocessing import *"
   ]
  },
  {
   "cell_type": "code",
   "execution_count": 4,
   "id": "4c57facf",
   "metadata": {},
   "outputs": [
    {
     "data": {
      "text/html": [
       "<div>\n",
       "<style scoped>\n",
       "    .dataframe tbody tr th:only-of-type {\n",
       "        vertical-align: middle;\n",
       "    }\n",
       "\n",
       "    .dataframe tbody tr th {\n",
       "        vertical-align: top;\n",
       "    }\n",
       "\n",
       "    .dataframe thead th {\n",
       "        text-align: right;\n",
       "    }\n",
       "</style>\n",
       "<table border=\"1\" class=\"dataframe\">\n",
       "  <thead>\n",
       "    <tr style=\"text-align: right;\">\n",
       "      <th></th>\n",
       "      <th>water</th>\n",
       "      <th>protein</th>\n",
       "      <th>fat</th>\n",
       "      <th>lactose</th>\n",
       "      <th>ash</th>\n",
       "    </tr>\n",
       "    <tr>\n",
       "      <th>Animal</th>\n",
       "      <th></th>\n",
       "      <th></th>\n",
       "      <th></th>\n",
       "      <th></th>\n",
       "      <th></th>\n",
       "    </tr>\n",
       "  </thead>\n",
       "  <tbody>\n",
       "    <tr>\n",
       "      <th>HORSE</th>\n",
       "      <td>90.1</td>\n",
       "      <td>2.6</td>\n",
       "      <td>1.0</td>\n",
       "      <td>6.9</td>\n",
       "      <td>0.35</td>\n",
       "    </tr>\n",
       "    <tr>\n",
       "      <th>ORANGUTAN</th>\n",
       "      <td>88.5</td>\n",
       "      <td>1.4</td>\n",
       "      <td>3.5</td>\n",
       "      <td>6.0</td>\n",
       "      <td>0.24</td>\n",
       "    </tr>\n",
       "    <tr>\n",
       "      <th>MONKEY</th>\n",
       "      <td>88.4</td>\n",
       "      <td>2.2</td>\n",
       "      <td>2.7</td>\n",
       "      <td>6.4</td>\n",
       "      <td>0.18</td>\n",
       "    </tr>\n",
       "    <tr>\n",
       "      <th>DONKEY</th>\n",
       "      <td>90.3</td>\n",
       "      <td>1.7</td>\n",
       "      <td>1.4</td>\n",
       "      <td>6.2</td>\n",
       "      <td>0.40</td>\n",
       "    </tr>\n",
       "    <tr>\n",
       "      <th>HIPPO</th>\n",
       "      <td>90.4</td>\n",
       "      <td>0.6</td>\n",
       "      <td>4.5</td>\n",
       "      <td>4.4</td>\n",
       "      <td>0.10</td>\n",
       "    </tr>\n",
       "  </tbody>\n",
       "</table>\n",
       "</div>"
      ],
      "text/plain": [
       "           water  protein  fat  lactose   ash\n",
       "Animal                                       \n",
       "HORSE       90.1      2.6  1.0      6.9  0.35\n",
       "ORANGUTAN   88.5      1.4  3.5      6.0  0.24\n",
       "MONKEY      88.4      2.2  2.7      6.4  0.18\n",
       "DONKEY      90.3      1.7  1.4      6.2  0.40\n",
       "HIPPO       90.4      0.6  4.5      4.4  0.10"
      ]
     },
     "execution_count": 4,
     "metadata": {},
     "output_type": "execute_result"
    }
   ],
   "source": [
    "milk = pd.read_csv(r\"/home/sarthakredasani/Documents/CDAC_ML/Datasets/Datasets/milk.csv\", index_col=0)\n",
    "milk.head(5)"
   ]
  },
  {
   "cell_type": "code",
   "execution_count": 5,
   "id": "ddac2b4e",
   "metadata": {},
   "outputs": [
    {
     "data": {
      "text/plain": [
       "pca0    282.167328\n",
       "pca1      8.134316\n",
       "pca2      1.203587\n",
       "pca3      0.305746\n",
       "pca4      0.067737\n",
       "dtype: float64"
      ]
     },
     "execution_count": 5,
     "metadata": {},
     "output_type": "execute_result"
    }
   ],
   "source": [
    "prcomp = PCA().set_output(transform='pandas')\n",
    "components = prcomp.fit_transform(milk)\n",
    "components.var()"
   ]
  },
  {
   "cell_type": "code",
   "execution_count": 6,
   "id": "fab6abca",
   "metadata": {},
   "outputs": [
    {
     "data": {
      "text/plain": [
       "(array([2.82167328e+02, 8.13431563e+00, 1.20358727e+00, 3.05746432e-01,\n",
       "        6.77367465e-02]),\n",
       " array([[-0.76163901,  0.15607203,  0.57443881, -0.25593731, -0.00798022],\n",
       "        [ 0.16060436, -0.85368037,  0.26796098, -0.39275281, -0.13920564],\n",
       "        [ 0.62047078,  0.44299977,  0.5524443 , -0.33676547,  0.01270931],\n",
       "        [-0.09474321,  0.18224371, -0.53829678, -0.816355  ,  0.04015019],\n",
       "        [ 0.01232867, -0.13194613,  0.05708616, -0.01987089,  0.9893354 ]]))"
      ]
     },
     "execution_count": 6,
     "metadata": {},
     "output_type": "execute_result"
    }
   ],
   "source": [
    "np.linalg.eig(milk.cov())"
   ]
  },
  {
   "cell_type": "code",
   "execution_count": 7,
   "id": "d2354753",
   "metadata": {},
   "outputs": [],
   "source": [
    "# Variances of created principal component columns are eign values of variance\n",
    "# covariance matrix of that data"
   ]
  },
  {
   "cell_type": "code",
   "execution_count": 8,
   "id": "c3daf636",
   "metadata": {},
   "outputs": [
    {
     "data": {
      "text/plain": [
       "array([2.82167328e+02, 8.13431563e+00, 1.20358727e+00, 3.05746432e-01,\n",
       "       6.77367465e-02])"
      ]
     },
     "execution_count": 8,
     "metadata": {},
     "output_type": "execute_result"
    }
   ],
   "source": [
    "prcomp.explained_variance_"
   ]
  },
  {
   "cell_type": "code",
   "execution_count": 9,
   "id": "cc8df6f5",
   "metadata": {},
   "outputs": [
    {
     "data": {
      "text/plain": [
       "291.8787143333331"
      ]
     },
     "execution_count": 9,
     "metadata": {},
     "output_type": "execute_result"
    }
   ],
   "source": [
    "tot_var = np.sum(prcomp.explained_variance_)\n",
    "tot_var"
   ]
  },
  {
   "cell_type": "code",
   "execution_count": 10,
   "id": "5eca73d0",
   "metadata": {},
   "outputs": [],
   "source": [
    "# Proportion of variation explained"
   ]
  },
  {
   "cell_type": "code",
   "execution_count": 11,
   "id": "2d15488d",
   "metadata": {},
   "outputs": [
    {
     "data": {
      "text/plain": [
       "array([9.66728009e-01, 2.78688210e-02, 4.12358699e-03, 1.04751192e-03,\n",
       "       2.32071553e-04])"
      ]
     },
     "execution_count": 11,
     "metadata": {},
     "output_type": "execute_result"
    }
   ],
   "source": [
    "prcomp.explained_variance_/tot_var"
   ]
  },
  {
   "cell_type": "code",
   "execution_count": 12,
   "id": "e15c87e7",
   "metadata": {},
   "outputs": [],
   "source": [
    "# % age of variation explained"
   ]
  },
  {
   "cell_type": "code",
   "execution_count": 14,
   "id": "8063483b",
   "metadata": {},
   "outputs": [
    {
     "data": {
      "text/plain": [
       "array([9.66728009e+01, 2.78688210e+00, 4.12358699e-01, 1.04751192e-01,\n",
       "       2.32071553e-02])"
      ]
     },
     "execution_count": 14,
     "metadata": {},
     "output_type": "execute_result"
    }
   ],
   "source": [
    "(prcomp.explained_variance_/tot_var)*100"
   ]
  },
  {
   "cell_type": "code",
   "execution_count": 15,
   "id": "379e97d5",
   "metadata": {},
   "outputs": [],
   "source": [
    "#  OR"
   ]
  },
  {
   "cell_type": "code",
   "execution_count": 16,
   "id": "c0c672e9",
   "metadata": {},
   "outputs": [
    {
     "data": {
      "text/plain": [
       "array([9.66728009e+01, 2.78688210e+00, 4.12358699e-01, 1.04751192e-01,\n",
       "       2.32071553e-02])"
      ]
     },
     "execution_count": 16,
     "metadata": {},
     "output_type": "execute_result"
    }
   ],
   "source": [
    "prcomp.explained_variance_ratio_ *100         "
   ]
  },
  {
   "cell_type": "code",
   "execution_count": 17,
   "id": "8275bab4",
   "metadata": {},
   "outputs": [],
   "source": [
    "# Cumulative"
   ]
  },
  {
   "cell_type": "code",
   "execution_count": 18,
   "id": "e4ff0ca3",
   "metadata": {},
   "outputs": [
    {
     "data": {
      "text/plain": [
       "array([ 6, 10, 17, 25])"
      ]
     },
     "execution_count": 18,
     "metadata": {},
     "output_type": "execute_result"
    }
   ],
   "source": [
    "a = np.array([6,4,7,8])\n",
    "np.cumsum(a)"
   ]
  },
  {
   "cell_type": "code",
   "execution_count": 19,
   "id": "0960347c",
   "metadata": {},
   "outputs": [
    {
     "data": {
      "text/plain": [
       "array([ 96.67280086,  99.45968295,  99.87204165,  99.97679284,\n",
       "       100.        ])"
      ]
     },
     "execution_count": 19,
     "metadata": {},
     "output_type": "execute_result"
    }
   ],
   "source": [
    "np.cumsum(prcomp.explained_variance_ratio_ *100 )"
   ]
  },
  {
   "cell_type": "code",
   "execution_count": 20,
   "id": "912db316",
   "metadata": {},
   "outputs": [
    {
     "data": {
      "image/png": "[encoded data removed]",
      "text/plain": [
       "<Figure size 640x480 with 1 Axes>"
      ]
     },
     "metadata": {},
     "output_type": "display_data"
    }
   ],
   "source": [
    "plt.scatter([1,2,3,4,5], np.cumsum(prcomp.explained_variance_ratio_ *100))\n",
    "plt.plot([1,2,3,4,5], np.cumsum(prcomp.explained_variance_ratio_ *100))\n",
    "plt.xlabel(\"PCs\")\n",
    "plt.title(\"Scree Plot\")\n",
    "plt.show()"
   ]
  },
  {
   "cell_type": "code",
   "execution_count": null,
   "id": "b5540361",
   "metadata": {},
   "outputs": [],
   "source": []
  }
 ],
 "metadata": {
  "kernelspec": {
   "display_name": "Python 3",
   "language": "python",
   "name": "python3"
  },
  "language_info": {
   "codemirror_mode": {
    "name": "ipython",
    "version": 3
   },
   "file_extension": ".py",
   "mimetype": "text/x-python",
   "name": "python",
   "nbconvert_exporter": "python",
   "pygments_lexer": "ipython3",
   "version": "3.11.9"
  }
 },
 "nbformat": 4,
 "nbformat_minor": 5
}

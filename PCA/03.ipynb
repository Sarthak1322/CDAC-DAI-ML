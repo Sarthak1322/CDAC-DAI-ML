{
 "cells": [
  {
   "cell_type": "code",
   "execution_count": 2,
   "id": "d464499e",
   "metadata": {},
   "outputs": [],
   "source": [
    "import pandas as pd\n",
    "import numpy as np\n",
    "import os\n",
    "from sklearn.decomposition import PCA\n",
    "from sklearn.preprocessing import StandardScaler\n",
    "import matplotlib.pyplot as plt\n",
    "from sklearn.linear_model import LogisticRegression\n",
    "from sklearn.preprocessing import OneHotEncoder\n",
    "from sklearn.pipeline import Pipeline\n",
    "from sklearn.model_selection import train_test_split\n",
    "from sklearn.compose import make_column_transformer, make_column_selector\n",
    "from sklearn.metrics import roc_auc_score, accuracy_score"
   ]
  },
  {
   "cell_type": "code",
   "execution_count": 3,
   "id": "90251f00",
   "metadata": {},
   "outputs": [
    {
     "data": {
      "text/html": [
       "<div>\n",
       "<style scoped>\n",
       "    .dataframe tbody tr th:only-of-type {\n",
       "        vertical-align: middle;\n",
       "    }\n",
       "\n",
       "    .dataframe tbody tr th {\n",
       "        vertical-align: top;\n",
       "    }\n",
       "\n",
       "    .dataframe thead th {\n",
       "        text-align: right;\n",
       "    }\n",
       "</style>\n",
       "<table border=\"1\" class=\"dataframe\">\n",
       "  <thead>\n",
       "    <tr style=\"text-align: right;\">\n",
       "      <th></th>\n",
       "      <th>satisfaction_level</th>\n",
       "      <th>last_evaluation</th>\n",
       "      <th>number_project</th>\n",
       "      <th>average_montly_hours</th>\n",
       "      <th>time_spend_company</th>\n",
       "      <th>Work_accident</th>\n",
       "      <th>left</th>\n",
       "      <th>promotion_last_5years</th>\n",
       "      <th>Department</th>\n",
       "      <th>salary</th>\n",
       "    </tr>\n",
       "  </thead>\n",
       "  <tbody>\n",
       "    <tr>\n",
       "      <th>0</th>\n",
       "      <td>0.38</td>\n",
       "      <td>0.53</td>\n",
       "      <td>2</td>\n",
       "      <td>157</td>\n",
       "      <td>3</td>\n",
       "      <td>0</td>\n",
       "      <td>1</td>\n",
       "      <td>0</td>\n",
       "      <td>sales</td>\n",
       "      <td>low</td>\n",
       "    </tr>\n",
       "    <tr>\n",
       "      <th>1</th>\n",
       "      <td>0.80</td>\n",
       "      <td>0.86</td>\n",
       "      <td>5</td>\n",
       "      <td>262</td>\n",
       "      <td>6</td>\n",
       "      <td>0</td>\n",
       "      <td>1</td>\n",
       "      <td>0</td>\n",
       "      <td>sales</td>\n",
       "      <td>medium</td>\n",
       "    </tr>\n",
       "    <tr>\n",
       "      <th>2</th>\n",
       "      <td>0.10</td>\n",
       "      <td>0.77</td>\n",
       "      <td>6</td>\n",
       "      <td>247</td>\n",
       "      <td>4</td>\n",
       "      <td>0</td>\n",
       "      <td>1</td>\n",
       "      <td>0</td>\n",
       "      <td>sales</td>\n",
       "      <td>low</td>\n",
       "    </tr>\n",
       "    <tr>\n",
       "      <th>3</th>\n",
       "      <td>0.92</td>\n",
       "      <td>0.85</td>\n",
       "      <td>5</td>\n",
       "      <td>259</td>\n",
       "      <td>5</td>\n",
       "      <td>0</td>\n",
       "      <td>1</td>\n",
       "      <td>0</td>\n",
       "      <td>sales</td>\n",
       "      <td>low</td>\n",
       "    </tr>\n",
       "    <tr>\n",
       "      <th>4</th>\n",
       "      <td>0.89</td>\n",
       "      <td>1.00</td>\n",
       "      <td>5</td>\n",
       "      <td>224</td>\n",
       "      <td>5</td>\n",
       "      <td>0</td>\n",
       "      <td>1</td>\n",
       "      <td>0</td>\n",
       "      <td>sales</td>\n",
       "      <td>low</td>\n",
       "    </tr>\n",
       "  </tbody>\n",
       "</table>\n",
       "</div>"
      ],
      "text/plain": [
       "   satisfaction_level  last_evaluation  number_project  average_montly_hours  \\\n",
       "0                0.38             0.53               2                   157   \n",
       "1                0.80             0.86               5                   262   \n",
       "2                0.10             0.77               6                   247   \n",
       "3                0.92             0.85               5                   259   \n",
       "4                0.89             1.00               5                   224   \n",
       "\n",
       "   time_spend_company  Work_accident  left  promotion_last_5years Department  \\\n",
       "0                   3              0     1                      0      sales   \n",
       "1                   6              0     1                      0      sales   \n",
       "2                   4              0     1                      0      sales   \n",
       "3                   5              0     1                      0      sales   \n",
       "4                   5              0     1                      0      sales   \n",
       "\n",
       "   salary  \n",
       "0     low  \n",
       "1  medium  \n",
       "2     low  \n",
       "3     low  \n",
       "4     low  "
      ]
     },
     "execution_count": 3,
     "metadata": {},
     "output_type": "execute_result"
    }
   ],
   "source": [
    "hr = pd.read_csv(r\"/home/sarthakredasani/Documents/CDAC_ML/Cases/Cases/human-resources-analytics/HR_comma_sep.csv\")\n",
    "hr.head(5)"
   ]
  },
  {
   "cell_type": "code",
   "execution_count": 4,
   "id": "e644ddb9",
   "metadata": {},
   "outputs": [],
   "source": [
    "X, y = hr.drop('left', axis=1), hr['left']\n",
    "X_train,X_test, y_train, y_test = train_test_split(X, y, test_size=0.3, random_state=25,\n",
    "                                                   stratify=y)"
   ]
  },
  {
   "cell_type": "code",
   "execution_count": 5,
   "id": "87e2cd39",
   "metadata": {},
   "outputs": [],
   "source": [
    "ohe = OneHotEncoder(sparse_output=False, drop='first').set_output(transform='pandas')\n",
    "ct = make_column_transformer((ohe, make_column_selector(dtype_include=object)), \n",
    "                             (\"passthrough\",make_column_selector(dtype_exclude=object)),\n",
    "                              verbose_feature_names_out=False)\n",
    "ct = ct.set_output(transform='pandas')"
   ]
  },
  {
   "cell_type": "code",
   "execution_count": 6,
   "id": "c06cd8ce",
   "metadata": {},
   "outputs": [],
   "source": [
    "X_trn_ohe = ct.fit_transform(X_train)\n",
    "X_tst_ohe = ct.transform(X_test)"
   ]
  },
  {
   "cell_type": "code",
   "execution_count": 7,
   "id": "f64c95a7",
   "metadata": {},
   "outputs": [],
   "source": [
    "prcomp = PCA().set_output(transform='pandas')\n",
    "X_trn_pca = prcomp.fit_transform(X_trn_ohe)\n",
    "X_tst_pca = prcomp.transform(X_tst_ohe)"
   ]
  },
  {
   "cell_type": "code",
   "execution_count": 8,
   "id": "44d396fc",
   "metadata": {},
   "outputs": [
    {
     "data": {
      "text/plain": [
       "array([ 99.80703267,  99.89328857,  99.94031756,  99.95858862,\n",
       "        99.9680321 ,  99.97458997,  99.97958484,  99.98368703,\n",
       "        99.98615829,  99.9885499 ,  99.99074522,  99.99280042,\n",
       "        99.99478659,  99.9966828 ,  99.99798431,  99.99890824,\n",
       "        99.99967871, 100.        ])"
      ]
     },
     "execution_count": 8,
     "metadata": {},
     "output_type": "execute_result"
    }
   ],
   "source": [
    "np.cumsum(prcomp.explained_variance_ratio_ *100)"
   ]
  },
  {
   "cell_type": "code",
   "execution_count": 9,
   "id": "2917e1d4",
   "metadata": {},
   "outputs": [
    {
     "data": {
      "image/png": "[encoded data removed]",
      "text/plain": [
       "<Figure size 640x480 with 1 Axes>"
      ]
     },
     "metadata": {},
     "output_type": "display_data"
    }
   ],
   "source": [
    "plt.scatter(np.arange(1, X_trn_ohe.shape[1]+1) , np.cumsum(prcomp.explained_variance_ratio_ *100))\n",
    "plt.plot(np.arange(1, X_trn_ohe.shape[1]+1) , np.cumsum(prcomp.explained_variance_ratio_ *100))\n",
    "plt.xlabel(\"PCs\")\n",
    "plt.title(\"Scree Plot\")\n",
    "plt.show()"
   ]
  },
  {
   "cell_type": "code",
   "execution_count": 10,
   "id": "fbaf8353",
   "metadata": {},
   "outputs": [
    {
     "name": "stdout",
     "output_type": "stream",
     "text": [
      "0.7546121360302289\n"
     ]
    }
   ],
   "source": [
    "lr = LogisticRegression()\n",
    "lr.fit(X_trn_pca.iloc[:,:2], y_train)\n",
    "y_pred = lr.predict(X_tst_pca.iloc[:,:2])\n",
    "print(accuracy_score(y_test, y_pred))"
   ]
  },
  {
   "cell_type": "code",
   "execution_count": 11,
   "id": "be330b5b",
   "metadata": {},
   "outputs": [],
   "source": [
    "# Using scaling"
   ]
  },
  {
   "cell_type": "code",
   "execution_count": 12,
   "id": "5b6e75b6",
   "metadata": {},
   "outputs": [],
   "source": [
    "scaler = StandardScaler()"
   ]
  },
  {
   "cell_type": "code",
   "execution_count": 13,
   "id": "a8ebb080",
   "metadata": {},
   "outputs": [],
   "source": [
    "X_trn_scl = scaler.fit_transform(X_trn_ohe)\n",
    "X_tst_scl = scaler.transform(X_tst_ohe)"
   ]
  },
  {
   "cell_type": "code",
   "execution_count": 14,
   "id": "d2614d4e",
   "metadata": {},
   "outputs": [],
   "source": [
    "prcomp = PCA().set_output(transform='pandas')\n",
    "X_trn_pca = prcomp.fit_transform(X_trn_scl)\n",
    "X_tst_pca = prcomp.transform(X_tst_scl)"
   ]
  },
  {
   "cell_type": "code",
   "execution_count": 15,
   "id": "b7e45e94",
   "metadata": {},
   "outputs": [
    {
     "data": {
      "image/png": "[encoded data removed]",
      "text/plain": [
       "<Figure size 640x480 with 1 Axes>"
      ]
     },
     "metadata": {},
     "output_type": "display_data"
    }
   ],
   "source": [
    "plt.scatter(np.arange(1, X_trn_ohe.shape[1]+1) , np.cumsum(prcomp.explained_variance_ratio_ *100))\n",
    "plt.plot(np.arange(1, X_trn_ohe.shape[1]+1) , np.cumsum(prcomp.explained_variance_ratio_ *100))\n",
    "plt.xlabel(\"PCs\")\n",
    "plt.title(\"Scree Plot\")\n",
    "plt.show()"
   ]
  },
  {
   "cell_type": "code",
   "execution_count": 16,
   "id": "0c7a1ac4",
   "metadata": {},
   "outputs": [
    {
     "name": "stdout",
     "output_type": "stream",
     "text": [
      "0.762169370971327\n"
     ]
    }
   ],
   "source": [
    "lr = LogisticRegression()\n",
    "lr.fit(X_trn_pca.iloc[:,:3], y_train)\n",
    "y_pred = lr.predict(X_tst_pca.iloc[:,:3])\n",
    "print(accuracy_score(y_test, y_pred))"
   ]
  },
  {
   "cell_type": "code",
   "execution_count": 17,
   "id": "d6cb4574",
   "metadata": {},
   "outputs": [],
   "source": [
    "#  using pipeline"
   ]
  },
  {
   "cell_type": "code",
   "execution_count": 18,
   "id": "4ce16c90",
   "metadata": {},
   "outputs": [
    {
     "name": "stdout",
     "output_type": "stream",
     "text": [
      "0.78239608801956\n"
     ]
    }
   ],
   "source": [
    "prcomp = PCA(n_components=9).set_output(transform='pandas')\n",
    "pipe = Pipeline([('CT',ct), ('SCL',scaler), ('PCA',prcomp), ('LR',lr)])\n",
    "pipe.fit(X_train, y_train)\n",
    "y_pred = pipe.predict(X_test)\n",
    "print(accuracy_score(y_test, y_pred))"
   ]
  },
  {
   "cell_type": "code",
   "execution_count": 19,
   "id": "b36f440d",
   "metadata": {},
   "outputs": [
    {
     "data": {
      "text/plain": [
       "array([10.40178671, 20.54642315, 27.89502036, 34.7204589 , 41.41037659,\n",
       "       47.7757818 , 53.87157964, 59.78241706, 65.66220656])"
      ]
     },
     "execution_count": 19,
     "metadata": {},
     "output_type": "execute_result"
    }
   ],
   "source": [
    "np.cumsum(prcomp.explained_variance_ratio_ *100)"
   ]
  },
  {
   "cell_type": "code",
   "execution_count": 20,
   "id": "58d188de",
   "metadata": {},
   "outputs": [],
   "source": [
    "#  specifying proportion in n_components"
   ]
  },
  {
   "cell_type": "code",
   "execution_count": 21,
   "id": "b39b1ed9",
   "metadata": {},
   "outputs": [
    {
     "name": "stdout",
     "output_type": "stream",
     "text": [
      "0.7732829517670593\n"
     ]
    }
   ],
   "source": [
    "prcomp = PCA(n_components=0.85).set_output(transform='pandas')\n",
    "pipe = Pipeline([('CT',ct), ('SCL',scaler), ('PCA',prcomp), ('LR',lr)])\n",
    "pipe.fit(X_train, y_train)\n",
    "y_pred = pipe.predict(X_test)\n",
    "print(accuracy_score(y_test, y_pred))"
   ]
  },
  {
   "cell_type": "code",
   "execution_count": 22,
   "id": "59536f05",
   "metadata": {},
   "outputs": [
    {
     "data": {
      "text/plain": [
       "array([10.40178671, 20.54642315, 27.89502036, 34.7204589 , 41.41037659,\n",
       "       47.7757818 , 53.87157964, 59.78241706, 65.66220656, 71.51420384,\n",
       "       77.2483374 , 82.68393776, 87.52473423])"
      ]
     },
     "execution_count": 22,
     "metadata": {},
     "output_type": "execute_result"
    }
   ],
   "source": [
    "np.cumsum(prcomp.explained_variance_ratio_ *100)"
   ]
  },
  {
   "cell_type": "code",
   "execution_count": null,
   "id": "b466385a",
   "metadata": {},
   "outputs": [],
   "source": []
  }
 ],
 "metadata": {
  "kernelspec": {
   "display_name": "Python 3",
   "language": "python",
   "name": "python3"
  },
  "language_info": {
   "codemirror_mode": {
    "name": "ipython",
    "version": 3
   },
   "file_extension": ".py",
   "mimetype": "text/x-python",
   "name": "python",
   "nbconvert_exporter": "python",
   "pygments_lexer": "ipython3",
   "version": "3.11.9"
  }
 },
 "nbformat": 4,
 "nbformat_minor": 5
}
